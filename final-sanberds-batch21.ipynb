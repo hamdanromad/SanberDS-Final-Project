{
 "cells": [
  {
   "cell_type": "markdown",
   "metadata": {
    "id": "W7kVBGz7EJFG",
    "papermill": {
     "duration": 0.028894,
     "end_time": "2021-03-28T07:03:17.673846",
     "exception": false,
     "start_time": "2021-03-28T07:03:17.644952",
     "status": "completed"
    },
    "tags": []
   },
   "source": [
    "## Price Prediction with Python"
   ]
  },
  {
   "cell_type": "markdown",
   "metadata": {},
   "source": [
    "<div class=\"alert alert-block alert-info\">\n",
    "<b>Description:</b> Pada Final Project Kelas Data Science Dasar diminta untuk memprediksi class range harga telepon genggam apakah kurang dari 1 juta, dalam range 1 - kurang dari 2 juta, diantara 2 juta hingga 3 juta dan lebih dari 3 juta berdasarkan beberapa keterangan pada kolom-kolom dataset. Diminta untuk membuat model klasifikasi yang dapat menentukan nilai pada kolom 'price_range' dengan mengubah nilainya berdasarkan ketentuan sebagai berikut: 0 : 0-<1000k, 1 : 1000k<2000k, 2 : 2000k-3000k, 3 : >3000k.\n",
    "</div>"
   ]
  },
  {
   "cell_type": "markdown",
   "metadata": {},
   "source": [
    "<div class=\"alert alert-block alert-info\">\n",
    "<b>Evaluation:</b> Evaluasi matriks yang di gunakan adalah fmean score, dipastikan untuk melakukan scoring metrics f1_score terhadap model yang buat.\n",
    "</div>"
   ]
  },
  {
   "cell_type": "markdown",
   "metadata": {},
   "source": [
    "<div class=\"alert alert-block alert-info\">\n",
    "<b>Data Description:</b> Terdapat tiga file yang digunakan pada final project ini, file train.csv berisi dataset yang memiliki kolom label digunakan untuk traning model, sedangkan file test.csv berisi dataset tanpa kolom label, yang nantinya teman-teman dapat menambahkan kolom 'price_range' berisi prediksi teman-teman sesuai ketentuan pada tab Overview. Kemudian teman-teman diminta untuk membuat dataset baru berisi kolom 'id' dan kolom 'price_range' yang diambil dari dataset test yang telah teman-teman tambahkan prediksinya, dataset baru ini yang nantinya akan dijadikan file submission. Contoh isi dari submission dapat teman-teman lihat pada file submission_sample.csv\n",
    "</div>"
   ]
  },
  {
   "cell_type": "markdown",
   "metadata": {},
   "source": [
    "### Importing Global Environment"
   ]
  },
  {
   "cell_type": "code",
   "execution_count": 1,
   "metadata": {
    "execution": {
     "iopub.execute_input": "2021-03-28T07:03:17.793572Z",
     "iopub.status.busy": "2021-03-28T07:03:17.792822Z",
     "iopub.status.idle": "2021-03-28T07:03:19.411680Z",
     "shell.execute_reply": "2021-03-28T07:03:19.410772Z"
    },
    "id": "4GDwvLCcpSh_",
    "papermill": {
     "duration": 1.655216,
     "end_time": "2021-03-28T07:03:19.411915",
     "exception": false,
     "start_time": "2021-03-28T07:03:17.756699",
     "status": "completed"
    },
    "tags": []
   },
   "outputs": [],
   "source": [
    "import pandas as pd\n",
    "import numpy as np\n",
    "import matplotlib.pyplot as plt\n",
    "import seaborn as sns\n",
    "\n",
    "from sklearn.model_selection import cross_val_score ,KFold \n",
    "from sklearn.neighbors import KNeighborsClassifier \n",
    "from sklearn.metrics import confusion_matrix , classification_report , accuracy_score\n",
    "from sklearn.model_selection import train_test_split\n",
    "from sklearn.linear_model import LogisticRegression\n",
    "from sklearn.tree import DecisionTreeClassifier\n",
    "from sklearn.discriminant_analysis import LinearDiscriminantAnalysis\n",
    "from sklearn.naive_bayes import GaussianNB\n",
    "from sklearn.ensemble import GradientBoostingClassifier , RandomForestClassifier , AdaBoostClassifier\n",
    "from sklearn.svm import SVC\n",
    "from sklearn.neural_network import MLPClassifier\n",
    "from sklearn.discriminant_analysis import QuadraticDiscriminantAnalysis\n",
    "\n",
    "import warnings\n",
    "warnings.filterwarnings('ignore')"
   ]
  },
  {
   "cell_type": "markdown",
   "metadata": {
    "id": "h378b3Kl_1D9",
    "papermill": {
     "duration": 0.027518,
     "end_time": "2021-03-28T07:03:19.468965",
     "exception": false,
     "start_time": "2021-03-28T07:03:19.441447",
     "status": "completed"
    },
    "tags": []
   },
   "source": [
    "### Memproses Data yang diberikan"
   ]
  },
  {
   "cell_type": "code",
   "execution_count": 2,
   "metadata": {
    "execution": {
     "iopub.execute_input": "2021-03-28T07:03:19.529991Z",
     "iopub.status.busy": "2021-03-28T07:03:19.529308Z",
     "iopub.status.idle": "2021-03-28T07:03:19.570844Z",
     "shell.execute_reply": "2021-03-28T07:03:19.570215Z"
    },
    "id": "2HfLhOc2pWL-",
    "papermill": {
     "duration": 0.074473,
     "end_time": "2021-03-28T07:03:19.571001",
     "exception": false,
     "start_time": "2021-03-28T07:03:19.496528",
     "status": "completed"
    },
    "tags": []
   },
   "outputs": [],
   "source": [
    "# Read Data\n",
    "data_test = pd.read_csv('test.csv')\n",
    "data_train = pd.read_csv('train.csv')"
   ]
  },
  {
   "cell_type": "code",
   "execution_count": 3,
   "metadata": {
    "execution": {
     "iopub.execute_input": "2021-03-28T07:03:19.631488Z",
     "iopub.status.busy": "2021-03-28T07:03:19.630518Z",
     "iopub.status.idle": "2021-03-28T07:03:19.695545Z",
     "shell.execute_reply": "2021-03-28T07:03:19.694479Z"
    },
    "id": "ZzPQYcfeqL7N",
    "outputId": "d0065639-bc32-426d-9784-18cf8927f64f",
    "papermill": {
     "duration": 0.096149,
     "end_time": "2021-03-28T07:03:19.695733",
     "exception": false,
     "start_time": "2021-03-28T07:03:19.599584",
     "status": "completed"
    },
    "tags": []
   },
   "outputs": [
    {
     "data": {
      "text/html": [
       "<div>\n",
       "<style scoped>\n",
       "    .dataframe tbody tr th:only-of-type {\n",
       "        vertical-align: middle;\n",
       "    }\n",
       "\n",
       "    .dataframe tbody tr th {\n",
       "        vertical-align: top;\n",
       "    }\n",
       "\n",
       "    .dataframe thead th {\n",
       "        text-align: right;\n",
       "    }\n",
       "</style>\n",
       "<table border=\"1\" class=\"dataframe\">\n",
       "  <thead>\n",
       "    <tr style=\"text-align: right;\">\n",
       "      <th></th>\n",
       "      <th>index</th>\n",
       "      <th>daya_baterai</th>\n",
       "      <th>bluetooth</th>\n",
       "      <th>kecepatan_clock</th>\n",
       "      <th>dual_sim</th>\n",
       "      <th>kamera_depan</th>\n",
       "      <th>four_g</th>\n",
       "      <th>memori_internal</th>\n",
       "      <th>tebal_hp</th>\n",
       "      <th>berat_hp</th>\n",
       "      <th>...</th>\n",
       "      <th>px_panjang</th>\n",
       "      <th>px_lebar</th>\n",
       "      <th>kapasitas_ram</th>\n",
       "      <th>panjang_layar</th>\n",
       "      <th>lebar_layar</th>\n",
       "      <th>waktu_telfon</th>\n",
       "      <th>three_g</th>\n",
       "      <th>touch_screen</th>\n",
       "      <th>wifi</th>\n",
       "      <th>price_range</th>\n",
       "    </tr>\n",
       "  </thead>\n",
       "  <tbody>\n",
       "    <tr>\n",
       "      <th>0</th>\n",
       "      <td>1045</td>\n",
       "      <td>531</td>\n",
       "      <td>0</td>\n",
       "      <td>1.1</td>\n",
       "      <td>0</td>\n",
       "      <td>10</td>\n",
       "      <td>Tidak</td>\n",
       "      <td>63</td>\n",
       "      <td>0.7</td>\n",
       "      <td>189</td>\n",
       "      <td>...</td>\n",
       "      <td>145</td>\n",
       "      <td>1903</td>\n",
       "      <td>2958</td>\n",
       "      <td>17.0</td>\n",
       "      <td>1</td>\n",
       "      <td>19</td>\n",
       "      <td>0</td>\n",
       "      <td>1</td>\n",
       "      <td>0</td>\n",
       "      <td>2000k-3000k</td>\n",
       "    </tr>\n",
       "    <tr>\n",
       "      <th>1</th>\n",
       "      <td>937</td>\n",
       "      <td>764</td>\n",
       "      <td>1</td>\n",
       "      <td>1.2</td>\n",
       "      <td>1</td>\n",
       "      <td>1</td>\n",
       "      <td>Tidak</td>\n",
       "      <td>13</td>\n",
       "      <td>1.0</td>\n",
       "      <td>152</td>\n",
       "      <td>...</td>\n",
       "      <td>361</td>\n",
       "      <td>511</td>\n",
       "      <td>3148</td>\n",
       "      <td>18.0</td>\n",
       "      <td>7</td>\n",
       "      <td>6</td>\n",
       "      <td>1</td>\n",
       "      <td>1</td>\n",
       "      <td>0</td>\n",
       "      <td>2000k-3000k</td>\n",
       "    </tr>\n",
       "    <tr>\n",
       "      <th>2</th>\n",
       "      <td>1658</td>\n",
       "      <td>1812</td>\n",
       "      <td>1</td>\n",
       "      <td>1.3</td>\n",
       "      <td>1</td>\n",
       "      <td>4</td>\n",
       "      <td>Ya</td>\n",
       "      <td>42</td>\n",
       "      <td>1.0</td>\n",
       "      <td>162</td>\n",
       "      <td>...</td>\n",
       "      <td>380</td>\n",
       "      <td>1550</td>\n",
       "      <td>3338</td>\n",
       "      <td>18.0</td>\n",
       "      <td>13</td>\n",
       "      <td>11</td>\n",
       "      <td>1</td>\n",
       "      <td>1</td>\n",
       "      <td>1</td>\n",
       "      <td>&gt;3000k</td>\n",
       "    </tr>\n",
       "    <tr>\n",
       "      <th>3</th>\n",
       "      <td>529</td>\n",
       "      <td>1821</td>\n",
       "      <td>0</td>\n",
       "      <td>0.9</td>\n",
       "      <td>0</td>\n",
       "      <td>9</td>\n",
       "      <td>Ya</td>\n",
       "      <td>12</td>\n",
       "      <td>0.3</td>\n",
       "      <td>114</td>\n",
       "      <td>...</td>\n",
       "      <td>97</td>\n",
       "      <td>1803</td>\n",
       "      <td>2430</td>\n",
       "      <td>7.0</td>\n",
       "      <td>4</td>\n",
       "      <td>6</td>\n",
       "      <td>1</td>\n",
       "      <td>1</td>\n",
       "      <td>1</td>\n",
       "      <td>2000k-3000k</td>\n",
       "    </tr>\n",
       "    <tr>\n",
       "      <th>4</th>\n",
       "      <td>895</td>\n",
       "      <td>1790</td>\n",
       "      <td>1</td>\n",
       "      <td>2.3</td>\n",
       "      <td>1</td>\n",
       "      <td>3</td>\n",
       "      <td>Ya</td>\n",
       "      <td>49</td>\n",
       "      <td>0.5</td>\n",
       "      <td>100</td>\n",
       "      <td>...</td>\n",
       "      <td>396</td>\n",
       "      <td>1980</td>\n",
       "      <td>3568</td>\n",
       "      <td>6.0</td>\n",
       "      <td>2</td>\n",
       "      <td>18</td>\n",
       "      <td>1</td>\n",
       "      <td>0</td>\n",
       "      <td>1</td>\n",
       "      <td>&gt;3000k</td>\n",
       "    </tr>\n",
       "    <tr>\n",
       "      <th>...</th>\n",
       "      <td>...</td>\n",
       "      <td>...</td>\n",
       "      <td>...</td>\n",
       "      <td>...</td>\n",
       "      <td>...</td>\n",
       "      <td>...</td>\n",
       "      <td>...</td>\n",
       "      <td>...</td>\n",
       "      <td>...</td>\n",
       "      <td>...</td>\n",
       "      <td>...</td>\n",
       "      <td>...</td>\n",
       "      <td>...</td>\n",
       "      <td>...</td>\n",
       "      <td>...</td>\n",
       "      <td>...</td>\n",
       "      <td>...</td>\n",
       "      <td>...</td>\n",
       "      <td>...</td>\n",
       "      <td>...</td>\n",
       "      <td>...</td>\n",
       "    </tr>\n",
       "    <tr>\n",
       "      <th>1495</th>\n",
       "      <td>835</td>\n",
       "      <td>1224</td>\n",
       "      <td>1</td>\n",
       "      <td>1.6</td>\n",
       "      <td>0</td>\n",
       "      <td>9</td>\n",
       "      <td>Tidak</td>\n",
       "      <td>33</td>\n",
       "      <td>1.0</td>\n",
       "      <td>157</td>\n",
       "      <td>...</td>\n",
       "      <td>522</td>\n",
       "      <td>563</td>\n",
       "      <td>3796</td>\n",
       "      <td>10.0</td>\n",
       "      <td>5</td>\n",
       "      <td>13</td>\n",
       "      <td>1</td>\n",
       "      <td>1</td>\n",
       "      <td>0</td>\n",
       "      <td>&gt;3000k</td>\n",
       "    </tr>\n",
       "    <tr>\n",
       "      <th>1496</th>\n",
       "      <td>1216</td>\n",
       "      <td>1158</td>\n",
       "      <td>0</td>\n",
       "      <td>0.7</td>\n",
       "      <td>1</td>\n",
       "      <td>1</td>\n",
       "      <td>Ya</td>\n",
       "      <td>29</td>\n",
       "      <td>0.7</td>\n",
       "      <td>123</td>\n",
       "      <td>...</td>\n",
       "      <td>311</td>\n",
       "      <td>1796</td>\n",
       "      <td>1542</td>\n",
       "      <td>17.0</td>\n",
       "      <td>9</td>\n",
       "      <td>15</td>\n",
       "      <td>1</td>\n",
       "      <td>0</td>\n",
       "      <td>1</td>\n",
       "      <td>1000k-&lt;2000k</td>\n",
       "    </tr>\n",
       "    <tr>\n",
       "      <th>1497</th>\n",
       "      <td>1653</td>\n",
       "      <td>1190</td>\n",
       "      <td>0</td>\n",
       "      <td>2.0</td>\n",
       "      <td>1</td>\n",
       "      <td>0</td>\n",
       "      <td>Tidak</td>\n",
       "      <td>40</td>\n",
       "      <td>0.2</td>\n",
       "      <td>93</td>\n",
       "      <td>...</td>\n",
       "      <td>1399</td>\n",
       "      <td>1646</td>\n",
       "      <td>3610</td>\n",
       "      <td>13.0</td>\n",
       "      <td>7</td>\n",
       "      <td>9</td>\n",
       "      <td>0</td>\n",
       "      <td>0</td>\n",
       "      <td>1</td>\n",
       "      <td>&gt;3000k</td>\n",
       "    </tr>\n",
       "    <tr>\n",
       "      <th>1498</th>\n",
       "      <td>559</td>\n",
       "      <td>1191</td>\n",
       "      <td>0</td>\n",
       "      <td>2.4</td>\n",
       "      <td>1</td>\n",
       "      <td>2</td>\n",
       "      <td>Tidak</td>\n",
       "      <td>13</td>\n",
       "      <td>0.9</td>\n",
       "      <td>169</td>\n",
       "      <td>...</td>\n",
       "      <td>179</td>\n",
       "      <td>1813</td>\n",
       "      <td>1028</td>\n",
       "      <td>14.0</td>\n",
       "      <td>6</td>\n",
       "      <td>8</td>\n",
       "      <td>1</td>\n",
       "      <td>1</td>\n",
       "      <td>1</td>\n",
       "      <td>0-&lt;1000k</td>\n",
       "    </tr>\n",
       "    <tr>\n",
       "      <th>1499</th>\n",
       "      <td>684</td>\n",
       "      <td>706</td>\n",
       "      <td>0</td>\n",
       "      <td>0.5</td>\n",
       "      <td>0</td>\n",
       "      <td>13</td>\n",
       "      <td>Ya</td>\n",
       "      <td>31</td>\n",
       "      <td>0.1</td>\n",
       "      <td>108</td>\n",
       "      <td>...</td>\n",
       "      <td>543</td>\n",
       "      <td>938</td>\n",
       "      <td>2419</td>\n",
       "      <td>8.0</td>\n",
       "      <td>7</td>\n",
       "      <td>4</td>\n",
       "      <td>1</td>\n",
       "      <td>0</td>\n",
       "      <td>1</td>\n",
       "      <td>1000k-&lt;2000k</td>\n",
       "    </tr>\n",
       "  </tbody>\n",
       "</table>\n",
       "<p>1500 rows × 22 columns</p>\n",
       "</div>"
      ],
      "text/plain": [
       "      index  daya_baterai  bluetooth  kecepatan_clock  dual_sim  kamera_depan  \\\n",
       "0      1045           531          0              1.1         0            10   \n",
       "1       937           764          1              1.2         1             1   \n",
       "2      1658          1812          1              1.3         1             4   \n",
       "3       529          1821          0              0.9         0             9   \n",
       "4       895          1790          1              2.3         1             3   \n",
       "...     ...           ...        ...              ...       ...           ...   \n",
       "1495    835          1224          1              1.6         0             9   \n",
       "1496   1216          1158          0              0.7         1             1   \n",
       "1497   1653          1190          0              2.0         1             0   \n",
       "1498    559          1191          0              2.4         1             2   \n",
       "1499    684           706          0              0.5         0            13   \n",
       "\n",
       "     four_g  memori_internal  tebal_hp  berat_hp  ...  px_panjang  px_lebar  \\\n",
       "0     Tidak               63       0.7       189  ...         145      1903   \n",
       "1     Tidak               13       1.0       152  ...         361       511   \n",
       "2        Ya               42       1.0       162  ...         380      1550   \n",
       "3        Ya               12       0.3       114  ...          97      1803   \n",
       "4        Ya               49       0.5       100  ...         396      1980   \n",
       "...     ...              ...       ...       ...  ...         ...       ...   \n",
       "1495  Tidak               33       1.0       157  ...         522       563   \n",
       "1496     Ya               29       0.7       123  ...         311      1796   \n",
       "1497  Tidak               40       0.2        93  ...        1399      1646   \n",
       "1498  Tidak               13       0.9       169  ...         179      1813   \n",
       "1499     Ya               31       0.1       108  ...         543       938   \n",
       "\n",
       "      kapasitas_ram  panjang_layar  lebar_layar  waktu_telfon  three_g  \\\n",
       "0              2958           17.0            1            19        0   \n",
       "1              3148           18.0            7             6        1   \n",
       "2              3338           18.0           13            11        1   \n",
       "3              2430            7.0            4             6        1   \n",
       "4              3568            6.0            2            18        1   \n",
       "...             ...            ...          ...           ...      ...   \n",
       "1495           3796           10.0            5            13        1   \n",
       "1496           1542           17.0            9            15        1   \n",
       "1497           3610           13.0            7             9        0   \n",
       "1498           1028           14.0            6             8        1   \n",
       "1499           2419            8.0            7             4        1   \n",
       "\n",
       "      touch_screen  wifi   price_range  \n",
       "0                1     0   2000k-3000k  \n",
       "1                1     0   2000k-3000k  \n",
       "2                1     1        >3000k  \n",
       "3                1     1   2000k-3000k  \n",
       "4                0     1        >3000k  \n",
       "...            ...   ...           ...  \n",
       "1495             1     0        >3000k  \n",
       "1496             0     1  1000k-<2000k  \n",
       "1497             0     1        >3000k  \n",
       "1498             1     1      0-<1000k  \n",
       "1499             0     1  1000k-<2000k  \n",
       "\n",
       "[1500 rows x 22 columns]"
      ]
     },
     "execution_count": 3,
     "metadata": {},
     "output_type": "execute_result"
    }
   ],
   "source": [
    "data_train"
   ]
  },
  {
   "cell_type": "code",
   "execution_count": 4,
   "metadata": {
    "execution": {
     "iopub.execute_input": "2021-03-28T07:03:19.792202Z",
     "iopub.status.busy": "2021-03-28T07:03:19.790224Z",
     "iopub.status.idle": "2021-03-28T07:03:19.795921Z",
     "shell.execute_reply": "2021-03-28T07:03:19.796448Z"
    },
    "id": "WTdRXLK6qTJ0",
    "outputId": "7f17f3fd-e06b-48a3-fb2d-a8446c4c25d8",
    "papermill": {
     "duration": 0.071623,
     "end_time": "2021-03-28T07:03:19.796651",
     "exception": false,
     "start_time": "2021-03-28T07:03:19.725028",
     "status": "completed"
    },
    "tags": []
   },
   "outputs": [
    {
     "data": {
      "text/html": [
       "<div>\n",
       "<style scoped>\n",
       "    .dataframe tbody tr th:only-of-type {\n",
       "        vertical-align: middle;\n",
       "    }\n",
       "\n",
       "    .dataframe tbody tr th {\n",
       "        vertical-align: top;\n",
       "    }\n",
       "\n",
       "    .dataframe thead th {\n",
       "        text-align: right;\n",
       "    }\n",
       "</style>\n",
       "<table border=\"1\" class=\"dataframe\">\n",
       "  <thead>\n",
       "    <tr style=\"text-align: right;\">\n",
       "      <th></th>\n",
       "      <th>index</th>\n",
       "      <th>daya_baterai</th>\n",
       "      <th>bluetooth</th>\n",
       "      <th>kecepatan_clock</th>\n",
       "      <th>dual_sim</th>\n",
       "      <th>kamera_depan</th>\n",
       "      <th>four_g</th>\n",
       "      <th>memori_internal</th>\n",
       "      <th>tebal_hp</th>\n",
       "      <th>berat_hp</th>\n",
       "      <th>...</th>\n",
       "      <th>kamera_belakang_mp</th>\n",
       "      <th>px_panjang</th>\n",
       "      <th>px_lebar</th>\n",
       "      <th>kapasitas_ram</th>\n",
       "      <th>panjang_layar</th>\n",
       "      <th>lebar_layar</th>\n",
       "      <th>waktu_telfon</th>\n",
       "      <th>three_g</th>\n",
       "      <th>touch_screen</th>\n",
       "      <th>wifi</th>\n",
       "    </tr>\n",
       "  </thead>\n",
       "  <tbody>\n",
       "    <tr>\n",
       "      <th>0</th>\n",
       "      <td>405</td>\n",
       "      <td>1454</td>\n",
       "      <td>1</td>\n",
       "      <td>0.5</td>\n",
       "      <td>1</td>\n",
       "      <td>1</td>\n",
       "      <td>Tidak</td>\n",
       "      <td>34</td>\n",
       "      <td>0.7</td>\n",
       "      <td>83</td>\n",
       "      <td>...</td>\n",
       "      <td>3</td>\n",
       "      <td>250</td>\n",
       "      <td>1033</td>\n",
       "      <td>3419</td>\n",
       "      <td>7</td>\n",
       "      <td>5</td>\n",
       "      <td>5</td>\n",
       "      <td>1</td>\n",
       "      <td>1</td>\n",
       "      <td>0</td>\n",
       "    </tr>\n",
       "    <tr>\n",
       "      <th>1</th>\n",
       "      <td>1190</td>\n",
       "      <td>1092</td>\n",
       "      <td>1</td>\n",
       "      <td>0.5</td>\n",
       "      <td>1</td>\n",
       "      <td>10</td>\n",
       "      <td>Tidak</td>\n",
       "      <td>11</td>\n",
       "      <td>0.5</td>\n",
       "      <td>167</td>\n",
       "      <td>...</td>\n",
       "      <td>14</td>\n",
       "      <td>468</td>\n",
       "      <td>571</td>\n",
       "      <td>737</td>\n",
       "      <td>14</td>\n",
       "      <td>4</td>\n",
       "      <td>11</td>\n",
       "      <td>0</td>\n",
       "      <td>1</td>\n",
       "      <td>0</td>\n",
       "    </tr>\n",
       "    <tr>\n",
       "      <th>2</th>\n",
       "      <td>1132</td>\n",
       "      <td>1524</td>\n",
       "      <td>1</td>\n",
       "      <td>1.8</td>\n",
       "      <td>1</td>\n",
       "      <td>0</td>\n",
       "      <td>Tidak</td>\n",
       "      <td>10</td>\n",
       "      <td>0.6</td>\n",
       "      <td>174</td>\n",
       "      <td>...</td>\n",
       "      <td>1</td>\n",
       "      <td>154</td>\n",
       "      <td>550</td>\n",
       "      <td>2678</td>\n",
       "      <td>16</td>\n",
       "      <td>5</td>\n",
       "      <td>13</td>\n",
       "      <td>1</td>\n",
       "      <td>0</td>\n",
       "      <td>1</td>\n",
       "    </tr>\n",
       "    <tr>\n",
       "      <th>3</th>\n",
       "      <td>731</td>\n",
       "      <td>1807</td>\n",
       "      <td>1</td>\n",
       "      <td>2.1</td>\n",
       "      <td>0</td>\n",
       "      <td>2</td>\n",
       "      <td>Tidak</td>\n",
       "      <td>49</td>\n",
       "      <td>0.8</td>\n",
       "      <td>125</td>\n",
       "      <td>...</td>\n",
       "      <td>10</td>\n",
       "      <td>337</td>\n",
       "      <td>1384</td>\n",
       "      <td>1906</td>\n",
       "      <td>17</td>\n",
       "      <td>13</td>\n",
       "      <td>13</td>\n",
       "      <td>0</td>\n",
       "      <td>1</td>\n",
       "      <td>1</td>\n",
       "    </tr>\n",
       "    <tr>\n",
       "      <th>4</th>\n",
       "      <td>1754</td>\n",
       "      <td>1086</td>\n",
       "      <td>1</td>\n",
       "      <td>1.7</td>\n",
       "      <td>1</td>\n",
       "      <td>0</td>\n",
       "      <td>Ya</td>\n",
       "      <td>43</td>\n",
       "      <td>0.2</td>\n",
       "      <td>111</td>\n",
       "      <td>...</td>\n",
       "      <td>1</td>\n",
       "      <td>56</td>\n",
       "      <td>1150</td>\n",
       "      <td>3285</td>\n",
       "      <td>11</td>\n",
       "      <td>5</td>\n",
       "      <td>17</td>\n",
       "      <td>1</td>\n",
       "      <td>1</td>\n",
       "      <td>0</td>\n",
       "    </tr>\n",
       "    <tr>\n",
       "      <th>...</th>\n",
       "      <td>...</td>\n",
       "      <td>...</td>\n",
       "      <td>...</td>\n",
       "      <td>...</td>\n",
       "      <td>...</td>\n",
       "      <td>...</td>\n",
       "      <td>...</td>\n",
       "      <td>...</td>\n",
       "      <td>...</td>\n",
       "      <td>...</td>\n",
       "      <td>...</td>\n",
       "      <td>...</td>\n",
       "      <td>...</td>\n",
       "      <td>...</td>\n",
       "      <td>...</td>\n",
       "      <td>...</td>\n",
       "      <td>...</td>\n",
       "      <td>...</td>\n",
       "      <td>...</td>\n",
       "      <td>...</td>\n",
       "      <td>...</td>\n",
       "    </tr>\n",
       "    <tr>\n",
       "      <th>495</th>\n",
       "      <td>936</td>\n",
       "      <td>805</td>\n",
       "      <td>0</td>\n",
       "      <td>0.8</td>\n",
       "      <td>0</td>\n",
       "      <td>1</td>\n",
       "      <td>Tidak</td>\n",
       "      <td>34</td>\n",
       "      <td>0.6</td>\n",
       "      <td>88</td>\n",
       "      <td>...</td>\n",
       "      <td>2</td>\n",
       "      <td>1262</td>\n",
       "      <td>1538</td>\n",
       "      <td>3647</td>\n",
       "      <td>18</td>\n",
       "      <td>11</td>\n",
       "      <td>9</td>\n",
       "      <td>1</td>\n",
       "      <td>0</td>\n",
       "      <td>1</td>\n",
       "    </tr>\n",
       "    <tr>\n",
       "      <th>496</th>\n",
       "      <td>1524</td>\n",
       "      <td>1162</td>\n",
       "      <td>0</td>\n",
       "      <td>1.0</td>\n",
       "      <td>0</td>\n",
       "      <td>0</td>\n",
       "      <td>Tidak</td>\n",
       "      <td>50</td>\n",
       "      <td>0.5</td>\n",
       "      <td>104</td>\n",
       "      <td>...</td>\n",
       "      <td>10</td>\n",
       "      <td>332</td>\n",
       "      <td>866</td>\n",
       "      <td>1404</td>\n",
       "      <td>10</td>\n",
       "      <td>3</td>\n",
       "      <td>15</td>\n",
       "      <td>1</td>\n",
       "      <td>1</td>\n",
       "      <td>1</td>\n",
       "    </tr>\n",
       "    <tr>\n",
       "      <th>497</th>\n",
       "      <td>1415</td>\n",
       "      <td>1759</td>\n",
       "      <td>1</td>\n",
       "      <td>1.4</td>\n",
       "      <td>0</td>\n",
       "      <td>10</td>\n",
       "      <td>Ya</td>\n",
       "      <td>15</td>\n",
       "      <td>0.4</td>\n",
       "      <td>101</td>\n",
       "      <td>...</td>\n",
       "      <td>13</td>\n",
       "      <td>382</td>\n",
       "      <td>1163</td>\n",
       "      <td>2107</td>\n",
       "      <td>18</td>\n",
       "      <td>5</td>\n",
       "      <td>16</td>\n",
       "      <td>1</td>\n",
       "      <td>1</td>\n",
       "      <td>0</td>\n",
       "    </tr>\n",
       "    <tr>\n",
       "      <th>498</th>\n",
       "      <td>1223</td>\n",
       "      <td>514</td>\n",
       "      <td>1</td>\n",
       "      <td>1.6</td>\n",
       "      <td>0</td>\n",
       "      <td>7</td>\n",
       "      <td>Ya</td>\n",
       "      <td>37</td>\n",
       "      <td>0.1</td>\n",
       "      <td>172</td>\n",
       "      <td>...</td>\n",
       "      <td>9</td>\n",
       "      <td>956</td>\n",
       "      <td>1723</td>\n",
       "      <td>3392</td>\n",
       "      <td>12</td>\n",
       "      <td>8</td>\n",
       "      <td>5</td>\n",
       "      <td>1</td>\n",
       "      <td>1</td>\n",
       "      <td>1</td>\n",
       "    </tr>\n",
       "    <tr>\n",
       "      <th>499</th>\n",
       "      <td>1548</td>\n",
       "      <td>1410</td>\n",
       "      <td>1</td>\n",
       "      <td>0.5</td>\n",
       "      <td>1</td>\n",
       "      <td>0</td>\n",
       "      <td>Ya</td>\n",
       "      <td>15</td>\n",
       "      <td>0.3</td>\n",
       "      <td>92</td>\n",
       "      <td>...</td>\n",
       "      <td>1</td>\n",
       "      <td>192</td>\n",
       "      <td>1311</td>\n",
       "      <td>2304</td>\n",
       "      <td>18</td>\n",
       "      <td>4</td>\n",
       "      <td>18</td>\n",
       "      <td>1</td>\n",
       "      <td>1</td>\n",
       "      <td>0</td>\n",
       "    </tr>\n",
       "  </tbody>\n",
       "</table>\n",
       "<p>500 rows × 21 columns</p>\n",
       "</div>"
      ],
      "text/plain": [
       "     index  daya_baterai  bluetooth  kecepatan_clock  dual_sim  kamera_depan  \\\n",
       "0      405          1454          1              0.5         1             1   \n",
       "1     1190          1092          1              0.5         1            10   \n",
       "2     1132          1524          1              1.8         1             0   \n",
       "3      731          1807          1              2.1         0             2   \n",
       "4     1754          1086          1              1.7         1             0   \n",
       "..     ...           ...        ...              ...       ...           ...   \n",
       "495    936           805          0              0.8         0             1   \n",
       "496   1524          1162          0              1.0         0             0   \n",
       "497   1415          1759          1              1.4         0            10   \n",
       "498   1223           514          1              1.6         0             7   \n",
       "499   1548          1410          1              0.5         1             0   \n",
       "\n",
       "    four_g  memori_internal  tebal_hp  berat_hp  ...  kamera_belakang_mp  \\\n",
       "0    Tidak               34       0.7        83  ...                   3   \n",
       "1    Tidak               11       0.5       167  ...                  14   \n",
       "2    Tidak               10       0.6       174  ...                   1   \n",
       "3    Tidak               49       0.8       125  ...                  10   \n",
       "4       Ya               43       0.2       111  ...                   1   \n",
       "..     ...              ...       ...       ...  ...                 ...   \n",
       "495  Tidak               34       0.6        88  ...                   2   \n",
       "496  Tidak               50       0.5       104  ...                  10   \n",
       "497     Ya               15       0.4       101  ...                  13   \n",
       "498     Ya               37       0.1       172  ...                   9   \n",
       "499     Ya               15       0.3        92  ...                   1   \n",
       "\n",
       "     px_panjang  px_lebar  kapasitas_ram  panjang_layar  lebar_layar  \\\n",
       "0           250      1033           3419              7            5   \n",
       "1           468       571            737             14            4   \n",
       "2           154       550           2678             16            5   \n",
       "3           337      1384           1906             17           13   \n",
       "4            56      1150           3285             11            5   \n",
       "..          ...       ...            ...            ...          ...   \n",
       "495        1262      1538           3647             18           11   \n",
       "496         332       866           1404             10            3   \n",
       "497         382      1163           2107             18            5   \n",
       "498         956      1723           3392             12            8   \n",
       "499         192      1311           2304             18            4   \n",
       "\n",
       "     waktu_telfon  three_g  touch_screen  wifi  \n",
       "0               5        1             1     0  \n",
       "1              11        0             1     0  \n",
       "2              13        1             0     1  \n",
       "3              13        0             1     1  \n",
       "4              17        1             1     0  \n",
       "..            ...      ...           ...   ...  \n",
       "495             9        1             0     1  \n",
       "496            15        1             1     1  \n",
       "497            16        1             1     0  \n",
       "498             5        1             1     1  \n",
       "499            18        1             1     0  \n",
       "\n",
       "[500 rows x 21 columns]"
      ]
     },
     "execution_count": 4,
     "metadata": {},
     "output_type": "execute_result"
    }
   ],
   "source": [
    "data_test"
   ]
  },
  {
   "cell_type": "code",
   "execution_count": 5,
   "metadata": {
    "execution": {
     "iopub.execute_input": "2021-03-28T07:03:19.878392Z",
     "iopub.status.busy": "2021-03-28T07:03:19.877696Z",
     "iopub.status.idle": "2021-03-28T07:03:19.883616Z",
     "shell.execute_reply": "2021-03-28T07:03:19.882635Z"
    },
    "id": "HGeugxghqe0D",
    "outputId": "85fb1ee1-629b-4924-db26-4a50054e5fdd",
    "papermill": {
     "duration": 0.057059,
     "end_time": "2021-03-28T07:03:19.883818",
     "exception": false,
     "start_time": "2021-03-28T07:03:19.826759",
     "status": "completed"
    },
    "tags": []
   },
   "outputs": [
    {
     "name": "stdout",
     "output_type": "stream",
     "text": [
      "<class 'pandas.core.frame.DataFrame'>\n",
      "RangeIndex: 1500 entries, 0 to 1499\n",
      "Data columns (total 22 columns):\n",
      " #   Column              Non-Null Count  Dtype  \n",
      "---  ------              --------------  -----  \n",
      " 0   index               1500 non-null   int64  \n",
      " 1   daya_baterai        1500 non-null   int64  \n",
      " 2   bluetooth           1500 non-null   int64  \n",
      " 3   kecepatan_clock     1450 non-null   float64\n",
      " 4   dual_sim            1500 non-null   int64  \n",
      " 5   kamera_depan        1500 non-null   int64  \n",
      " 6   four_g              1500 non-null   object \n",
      " 7   memori_internal     1500 non-null   int64  \n",
      " 8   tebal_hp            1500 non-null   float64\n",
      " 9   berat_hp            1500 non-null   int64  \n",
      " 10  jumlah_prosesor     1500 non-null   int64  \n",
      " 11  kamera_belakang_mp  1500 non-null   int64  \n",
      " 12  px_panjang          1500 non-null   int64  \n",
      " 13  px_lebar            1500 non-null   int64  \n",
      " 14  kapasitas_ram       1500 non-null   int64  \n",
      " 15  panjang_layar       1381 non-null   float64\n",
      " 16  lebar_layar         1500 non-null   int64  \n",
      " 17  waktu_telfon        1500 non-null   int64  \n",
      " 18  three_g             1500 non-null   int64  \n",
      " 19  touch_screen        1500 non-null   int64  \n",
      " 20  wifi                1500 non-null   int64  \n",
      " 21  price_range         1500 non-null   object \n",
      "dtypes: float64(3), int64(17), object(2)\n",
      "memory usage: 257.9+ KB\n"
     ]
    }
   ],
   "source": [
    "data_train.info()"
   ]
  },
  {
   "cell_type": "code",
   "execution_count": 6,
   "metadata": {
    "execution": {
     "iopub.execute_input": "2021-03-28T07:03:19.950165Z",
     "iopub.status.busy": "2021-03-28T07:03:19.949139Z",
     "iopub.status.idle": "2021-03-28T07:03:19.967299Z",
     "shell.execute_reply": "2021-03-28T07:03:19.968396Z"
    },
    "id": "eOhHvRrOqoqD",
    "outputId": "5653d52b-409d-477a-b707-961580c07750",
    "papermill": {
     "duration": 0.054047,
     "end_time": "2021-03-28T07:03:19.968775",
     "exception": false,
     "start_time": "2021-03-28T07:03:19.914728",
     "status": "completed"
    },
    "tags": []
   },
   "outputs": [
    {
     "name": "stdout",
     "output_type": "stream",
     "text": [
      "<class 'pandas.core.frame.DataFrame'>\n",
      "RangeIndex: 500 entries, 0 to 499\n",
      "Data columns (total 21 columns):\n",
      " #   Column              Non-Null Count  Dtype  \n",
      "---  ------              --------------  -----  \n",
      " 0   index               500 non-null    int64  \n",
      " 1   daya_baterai        500 non-null    int64  \n",
      " 2   bluetooth           500 non-null    int64  \n",
      " 3   kecepatan_clock     500 non-null    float64\n",
      " 4   dual_sim            500 non-null    int64  \n",
      " 5   kamera_depan        500 non-null    int64  \n",
      " 6   four_g              500 non-null    object \n",
      " 7   memori_internal     500 non-null    int64  \n",
      " 8   tebal_hp            500 non-null    float64\n",
      " 9   berat_hp            500 non-null    int64  \n",
      " 10  jumlah_prosesor     500 non-null    int64  \n",
      " 11  kamera_belakang_mp  500 non-null    int64  \n",
      " 12  px_panjang          500 non-null    int64  \n",
      " 13  px_lebar            500 non-null    int64  \n",
      " 14  kapasitas_ram       500 non-null    int64  \n",
      " 15  panjang_layar       500 non-null    int64  \n",
      " 16  lebar_layar         500 non-null    int64  \n",
      " 17  waktu_telfon        500 non-null    int64  \n",
      " 18  three_g             500 non-null    int64  \n",
      " 19  touch_screen        500 non-null    int64  \n",
      " 20  wifi                500 non-null    int64  \n",
      "dtypes: float64(2), int64(18), object(1)\n",
      "memory usage: 82.2+ KB\n"
     ]
    }
   ],
   "source": [
    "data_test.info()"
   ]
  },
  {
   "cell_type": "code",
   "execution_count": 7,
   "metadata": {
    "execution": {
     "iopub.execute_input": "2021-03-28T07:03:20.041013Z",
     "iopub.status.busy": "2021-03-28T07:03:20.040325Z",
     "iopub.status.idle": "2021-03-28T07:03:20.044619Z",
     "shell.execute_reply": "2021-03-28T07:03:20.043972Z"
    },
    "id": "rjPfBiU-rIoS",
    "outputId": "26a6832b-08a4-48c9-8f66-413ef4ee7a62",
    "papermill": {
     "duration": 0.044326,
     "end_time": "2021-03-28T07:03:20.044774",
     "exception": false,
     "start_time": "2021-03-28T07:03:20.000448",
     "status": "completed"
    },
    "tags": []
   },
   "outputs": [
    {
     "data": {
      "text/plain": [
       "index                 0\n",
       "daya_baterai          0\n",
       "bluetooth             0\n",
       "kecepatan_clock       0\n",
       "dual_sim              0\n",
       "kamera_depan          0\n",
       "four_g                0\n",
       "memori_internal       0\n",
       "tebal_hp              0\n",
       "berat_hp              0\n",
       "jumlah_prosesor       0\n",
       "kamera_belakang_mp    0\n",
       "px_panjang            0\n",
       "px_lebar              0\n",
       "kapasitas_ram         0\n",
       "panjang_layar         0\n",
       "lebar_layar           0\n",
       "waktu_telfon          0\n",
       "three_g               0\n",
       "touch_screen          0\n",
       "wifi                  0\n",
       "dtype: int64"
      ]
     },
     "execution_count": 7,
     "metadata": {},
     "output_type": "execute_result"
    }
   ],
   "source": [
    "# Mencari data Null didalam data_test\n",
    "data_test.isnull().sum()"
   ]
  },
  {
   "cell_type": "code",
   "execution_count": 8,
   "metadata": {
    "execution": {
     "iopub.execute_input": "2021-03-28T07:03:20.111749Z",
     "iopub.status.busy": "2021-03-28T07:03:20.111012Z",
     "iopub.status.idle": "2021-03-28T07:03:20.119348Z",
     "shell.execute_reply": "2021-03-28T07:03:20.120030Z"
    },
    "id": "3OIlk1Sjrf8k",
    "outputId": "87925184-c3e3-44ad-c1c0-260190bea146",
    "papermill": {
     "duration": 0.043541,
     "end_time": "2021-03-28T07:03:20.120227",
     "exception": false,
     "start_time": "2021-03-28T07:03:20.076686",
     "status": "completed"
    },
    "tags": []
   },
   "outputs": [
    {
     "data": {
      "text/plain": [
       "index                   0\n",
       "daya_baterai            0\n",
       "bluetooth               0\n",
       "kecepatan_clock        50\n",
       "dual_sim                0\n",
       "kamera_depan            0\n",
       "four_g                  0\n",
       "memori_internal         0\n",
       "tebal_hp                0\n",
       "berat_hp                0\n",
       "jumlah_prosesor         0\n",
       "kamera_belakang_mp      0\n",
       "px_panjang              0\n",
       "px_lebar                0\n",
       "kapasitas_ram           0\n",
       "panjang_layar         119\n",
       "lebar_layar             0\n",
       "waktu_telfon            0\n",
       "three_g                 0\n",
       "touch_screen            0\n",
       "wifi                    0\n",
       "price_range             0\n",
       "dtype: int64"
      ]
     },
     "execution_count": 8,
     "metadata": {},
     "output_type": "execute_result"
    }
   ],
   "source": [
    "## Mencari data Null didalam data_train\n",
    "data_train.isnull().sum()"
   ]
  },
  {
   "cell_type": "code",
   "execution_count": 11,
   "metadata": {
    "execution": {
     "iopub.execute_input": "2021-03-28T07:03:20.187801Z",
     "iopub.status.busy": "2021-03-28T07:03:20.187000Z",
     "iopub.status.idle": "2021-03-28T07:03:20.832878Z",
     "shell.execute_reply": "2021-03-28T07:03:20.830966Z"
    },
    "id": "8LCReU5PsBJg",
    "outputId": "5b4cb189-d3d6-42e0-83f7-218eb3dc5efd",
    "papermill": {
     "duration": 0.681031,
     "end_time": "2021-03-28T07:03:20.833076",
     "exception": false,
     "start_time": "2021-03-28T07:03:20.152045",
     "status": "completed"
    },
    "tags": []
   },
   "outputs": [
    {
     "data": {
      "text/plain": [
       "<AxesSubplot:xlabel='count', ylabel='kecepatan_clock'>"
      ]
     },
     "execution_count": 11,
     "metadata": {},
     "output_type": "execute_result"
    },
    {
     "data": {
      "image/png": "[encoded data removed]",
      "text/plain": [
       "<Figure size 720x1152 with 1 Axes>"
      ]
     },
     "metadata": {
      "needs_background": "light"
     },
     "output_type": "display_data"
    }
   ],
   "source": [
    "# Menganalisa peran kecepatan_clock dalam price_range\n",
    "plt.figure(figsize=(10,16))\n",
    "sns.countplot(data=data_train,y='kecepatan_clock',hue='price_range')"
   ]
  },
  {
   "cell_type": "code",
   "execution_count": 13,
   "metadata": {
    "execution": {
     "iopub.execute_input": "2021-03-28T07:03:20.907617Z",
     "iopub.status.busy": "2021-03-28T07:03:20.906930Z",
     "iopub.status.idle": "2021-03-28T07:03:21.298605Z",
     "shell.execute_reply": "2021-03-28T07:03:21.299105Z"
    },
    "id": "NGX_xjPYsKlo",
    "outputId": "7ed058c5-510b-428a-8687-3257c8f1b818",
    "papermill": {
     "duration": 0.431611,
     "end_time": "2021-03-28T07:03:21.299276",
     "exception": false,
     "start_time": "2021-03-28T07:03:20.867665",
     "status": "completed"
    },
    "tags": []
   },
   "outputs": [
    {
     "data": {
      "text/plain": [
       "<AxesSubplot:xlabel='count', ylabel='panjang_layar'>"
      ]
     },
     "execution_count": 13,
     "metadata": {},
     "output_type": "execute_result"
    },
    {
     "data": {
      "image/png": "[encoded data removed]",
      "text/plain": [
       "<Figure size 720x864 with 1 Axes>"
      ]
     },
     "metadata": {
      "needs_background": "light"
     },
     "output_type": "display_data"
    }
   ],
   "source": [
    "# Menganalisa peran panjang_layar dalam price_range\n",
    "plt.figure(figsize=(10,12))\n",
    "sns.countplot(data=data_train,y='panjang_layar',hue='price_range')"
   ]
  },
  {
   "cell_type": "code",
   "execution_count": 14,
   "metadata": {
    "execution": {
     "iopub.execute_input": "2021-03-28T07:03:21.376044Z",
     "iopub.status.busy": "2021-03-28T07:03:21.374979Z",
     "iopub.status.idle": "2021-03-28T07:03:21.386367Z",
     "shell.execute_reply": "2021-03-28T07:03:21.385550Z"
    },
    "id": "whQFjdWgtb3u",
    "papermill": {
     "duration": 0.052244,
     "end_time": "2021-03-28T07:03:21.386543",
     "exception": false,
     "start_time": "2021-03-28T07:03:21.334299",
     "status": "completed"
    },
    "tags": []
   },
   "outputs": [],
   "source": [
    "# Mengisi data yang kosong dengan metode foward fill / ffill\n",
    "data_train['kecepatan_clock'] = data_train['kecepatan_clock'].fillna(method='ffill')\n",
    "data_train['panjang_layar'] = data_train['panjang_layar'].fillna(method='ffill')"
   ]
  },
  {
   "cell_type": "code",
   "execution_count": 15,
   "metadata": {
    "execution": {
     "iopub.execute_input": "2021-03-28T07:03:21.468184Z",
     "iopub.status.busy": "2021-03-28T07:03:21.467146Z",
     "iopub.status.idle": "2021-03-28T07:03:21.480594Z",
     "shell.execute_reply": "2021-03-28T07:03:21.481520Z"
    },
    "id": "4YszO6p0tzFW",
    "outputId": "373f060d-72d4-417c-b06e-ec046dd5459f",
    "papermill": {
     "duration": 0.056263,
     "end_time": "2021-03-28T07:03:21.481785",
     "exception": false,
     "start_time": "2021-03-28T07:03:21.425522",
     "status": "completed"
    },
    "tags": []
   },
   "outputs": [
    {
     "data": {
      "text/plain": [
       "index                 0\n",
       "daya_baterai          0\n",
       "bluetooth             0\n",
       "kecepatan_clock       0\n",
       "dual_sim              0\n",
       "kamera_depan          0\n",
       "four_g                0\n",
       "memori_internal       0\n",
       "tebal_hp              0\n",
       "berat_hp              0\n",
       "jumlah_prosesor       0\n",
       "kamera_belakang_mp    0\n",
       "px_panjang            0\n",
       "px_lebar              0\n",
       "kapasitas_ram         0\n",
       "panjang_layar         0\n",
       "lebar_layar           0\n",
       "waktu_telfon          0\n",
       "three_g               0\n",
       "touch_screen          0\n",
       "wifi                  0\n",
       "price_range           0\n",
       "dtype: int64"
      ]
     },
     "execution_count": 15,
     "metadata": {},
     "output_type": "execute_result"
    }
   ],
   "source": [
    "# Mengecek apakah masih ada data yang bernilai Null / Kosong\n",
    "data_train.isnull().sum()"
   ]
  },
  {
   "cell_type": "code",
   "execution_count": 16,
   "metadata": {
    "execution": {
     "iopub.execute_input": "2021-03-28T07:03:21.565405Z",
     "iopub.status.busy": "2021-03-28T07:03:21.564321Z",
     "iopub.status.idle": "2021-03-28T07:03:21.635788Z",
     "shell.execute_reply": "2021-03-28T07:03:21.636263Z"
    },
    "id": "waN9H85cv-Iq",
    "outputId": "f77638f4-9c19-4f5f-ad24-1b8fe5a1c6c7",
    "papermill": {
     "duration": 0.116675,
     "end_time": "2021-03-28T07:03:21.636463",
     "exception": false,
     "start_time": "2021-03-28T07:03:21.519788",
     "status": "completed"
    },
    "tags": []
   },
   "outputs": [
    {
     "data": {
      "text/html": [
       "<div>\n",
       "<style scoped>\n",
       "    .dataframe tbody tr th:only-of-type {\n",
       "        vertical-align: middle;\n",
       "    }\n",
       "\n",
       "    .dataframe tbody tr th {\n",
       "        vertical-align: top;\n",
       "    }\n",
       "\n",
       "    .dataframe thead th {\n",
       "        text-align: right;\n",
       "    }\n",
       "</style>\n",
       "<table border=\"1\" class=\"dataframe\">\n",
       "  <thead>\n",
       "    <tr style=\"text-align: right;\">\n",
       "      <th></th>\n",
       "      <th>index</th>\n",
       "      <th>daya_baterai</th>\n",
       "      <th>bluetooth</th>\n",
       "      <th>kecepatan_clock</th>\n",
       "      <th>dual_sim</th>\n",
       "      <th>kamera_depan</th>\n",
       "      <th>memori_internal</th>\n",
       "      <th>tebal_hp</th>\n",
       "      <th>berat_hp</th>\n",
       "      <th>jumlah_prosesor</th>\n",
       "      <th>kamera_belakang_mp</th>\n",
       "      <th>px_panjang</th>\n",
       "      <th>px_lebar</th>\n",
       "      <th>kapasitas_ram</th>\n",
       "      <th>panjang_layar</th>\n",
       "      <th>lebar_layar</th>\n",
       "      <th>waktu_telfon</th>\n",
       "      <th>three_g</th>\n",
       "      <th>touch_screen</th>\n",
       "      <th>wifi</th>\n",
       "    </tr>\n",
       "  </thead>\n",
       "  <tbody>\n",
       "    <tr>\n",
       "      <th>count</th>\n",
       "      <td>1500.000000</td>\n",
       "      <td>1500.000000</td>\n",
       "      <td>1500.000000</td>\n",
       "      <td>1500.000000</td>\n",
       "      <td>1500.000000</td>\n",
       "      <td>1500.000000</td>\n",
       "      <td>1500.000000</td>\n",
       "      <td>1500.000000</td>\n",
       "      <td>1500.000000</td>\n",
       "      <td>1500.000000</td>\n",
       "      <td>1500.000000</td>\n",
       "      <td>1500.000000</td>\n",
       "      <td>1500.000000</td>\n",
       "      <td>1500.000000</td>\n",
       "      <td>1500.000000</td>\n",
       "      <td>1500.000000</td>\n",
       "      <td>1500.000000</td>\n",
       "      <td>1500.000000</td>\n",
       "      <td>1500.000000</td>\n",
       "      <td>1500.000000</td>\n",
       "    </tr>\n",
       "    <tr>\n",
       "      <th>mean</th>\n",
       "      <td>1005.632667</td>\n",
       "      <td>1233.106667</td>\n",
       "      <td>0.488000</td>\n",
       "      <td>1.550400</td>\n",
       "      <td>0.514000</td>\n",
       "      <td>4.188000</td>\n",
       "      <td>31.952667</td>\n",
       "      <td>0.501467</td>\n",
       "      <td>139.175333</td>\n",
       "      <td>4.526667</td>\n",
       "      <td>9.790667</td>\n",
       "      <td>656.468000</td>\n",
       "      <td>1263.966667</td>\n",
       "      <td>2101.494667</td>\n",
       "      <td>12.405333</td>\n",
       "      <td>5.840000</td>\n",
       "      <td>11.031333</td>\n",
       "      <td>0.760000</td>\n",
       "      <td>0.494667</td>\n",
       "      <td>0.514000</td>\n",
       "    </tr>\n",
       "    <tr>\n",
       "      <th>std</th>\n",
       "      <td>575.773812</td>\n",
       "      <td>441.849570</td>\n",
       "      <td>0.500023</td>\n",
       "      <td>0.833837</td>\n",
       "      <td>0.499971</td>\n",
       "      <td>4.243976</td>\n",
       "      <td>18.323853</td>\n",
       "      <td>0.288352</td>\n",
       "      <td>35.087225</td>\n",
       "      <td>2.274952</td>\n",
       "      <td>6.054250</td>\n",
       "      <td>445.909214</td>\n",
       "      <td>434.283017</td>\n",
       "      <td>1073.742748</td>\n",
       "      <td>4.344992</td>\n",
       "      <td>4.407647</td>\n",
       "      <td>5.479876</td>\n",
       "      <td>0.427226</td>\n",
       "      <td>0.500138</td>\n",
       "      <td>0.499971</td>\n",
       "    </tr>\n",
       "    <tr>\n",
       "      <th>min</th>\n",
       "      <td>0.000000</td>\n",
       "      <td>501.000000</td>\n",
       "      <td>0.000000</td>\n",
       "      <td>0.500000</td>\n",
       "      <td>0.000000</td>\n",
       "      <td>0.000000</td>\n",
       "      <td>2.000000</td>\n",
       "      <td>0.100000</td>\n",
       "      <td>80.000000</td>\n",
       "      <td>1.000000</td>\n",
       "      <td>0.000000</td>\n",
       "      <td>0.000000</td>\n",
       "      <td>500.000000</td>\n",
       "      <td>256.000000</td>\n",
       "      <td>5.000000</td>\n",
       "      <td>0.000000</td>\n",
       "      <td>2.000000</td>\n",
       "      <td>0.000000</td>\n",
       "      <td>0.000000</td>\n",
       "      <td>0.000000</td>\n",
       "    </tr>\n",
       "    <tr>\n",
       "      <th>25%</th>\n",
       "      <td>509.750000</td>\n",
       "      <td>840.750000</td>\n",
       "      <td>0.000000</td>\n",
       "      <td>0.700000</td>\n",
       "      <td>0.000000</td>\n",
       "      <td>1.000000</td>\n",
       "      <td>16.000000</td>\n",
       "      <td>0.200000</td>\n",
       "      <td>108.000000</td>\n",
       "      <td>3.000000</td>\n",
       "      <td>4.000000</td>\n",
       "      <td>293.000000</td>\n",
       "      <td>882.000000</td>\n",
       "      <td>1202.500000</td>\n",
       "      <td>9.000000</td>\n",
       "      <td>2.000000</td>\n",
       "      <td>6.000000</td>\n",
       "      <td>1.000000</td>\n",
       "      <td>0.000000</td>\n",
       "      <td>0.000000</td>\n",
       "    </tr>\n",
       "    <tr>\n",
       "      <th>50%</th>\n",
       "      <td>1005.000000</td>\n",
       "      <td>1222.500000</td>\n",
       "      <td>0.000000</td>\n",
       "      <td>1.600000</td>\n",
       "      <td>1.000000</td>\n",
       "      <td>3.000000</td>\n",
       "      <td>31.000000</td>\n",
       "      <td>0.500000</td>\n",
       "      <td>139.000000</td>\n",
       "      <td>4.000000</td>\n",
       "      <td>10.000000</td>\n",
       "      <td>580.500000</td>\n",
       "      <td>1263.000000</td>\n",
       "      <td>2107.000000</td>\n",
       "      <td>13.000000</td>\n",
       "      <td>5.000000</td>\n",
       "      <td>11.000000</td>\n",
       "      <td>1.000000</td>\n",
       "      <td>0.000000</td>\n",
       "      <td>1.000000</td>\n",
       "    </tr>\n",
       "    <tr>\n",
       "      <th>75%</th>\n",
       "      <td>1509.250000</td>\n",
       "      <td>1608.500000</td>\n",
       "      <td>1.000000</td>\n",
       "      <td>2.300000</td>\n",
       "      <td>1.000000</td>\n",
       "      <td>7.000000</td>\n",
       "      <td>48.000000</td>\n",
       "      <td>0.800000</td>\n",
       "      <td>169.000000</td>\n",
       "      <td>7.000000</td>\n",
       "      <td>15.000000</td>\n",
       "      <td>961.000000</td>\n",
       "      <td>1645.250000</td>\n",
       "      <td>2982.250000</td>\n",
       "      <td>16.000000</td>\n",
       "      <td>9.000000</td>\n",
       "      <td>16.000000</td>\n",
       "      <td>1.000000</td>\n",
       "      <td>1.000000</td>\n",
       "      <td>1.000000</td>\n",
       "    </tr>\n",
       "    <tr>\n",
       "      <th>max</th>\n",
       "      <td>1998.000000</td>\n",
       "      <td>1998.000000</td>\n",
       "      <td>1.000000</td>\n",
       "      <td>3.000000</td>\n",
       "      <td>1.000000</td>\n",
       "      <td>16.000000</td>\n",
       "      <td>64.000000</td>\n",
       "      <td>1.000000</td>\n",
       "      <td>200.000000</td>\n",
       "      <td>8.000000</td>\n",
       "      <td>20.000000</td>\n",
       "      <td>1920.000000</td>\n",
       "      <td>1998.000000</td>\n",
       "      <td>3998.000000</td>\n",
       "      <td>19.000000</td>\n",
       "      <td>18.000000</td>\n",
       "      <td>20.000000</td>\n",
       "      <td>1.000000</td>\n",
       "      <td>1.000000</td>\n",
       "      <td>1.000000</td>\n",
       "    </tr>\n",
       "  </tbody>\n",
       "</table>\n",
       "</div>"
      ],
      "text/plain": [
       "             index  daya_baterai    bluetooth  kecepatan_clock     dual_sim  \\\n",
       "count  1500.000000   1500.000000  1500.000000      1500.000000  1500.000000   \n",
       "mean   1005.632667   1233.106667     0.488000         1.550400     0.514000   \n",
       "std     575.773812    441.849570     0.500023         0.833837     0.499971   \n",
       "min       0.000000    501.000000     0.000000         0.500000     0.000000   \n",
       "25%     509.750000    840.750000     0.000000         0.700000     0.000000   \n",
       "50%    1005.000000   1222.500000     0.000000         1.600000     1.000000   \n",
       "75%    1509.250000   1608.500000     1.000000         2.300000     1.000000   \n",
       "max    1998.000000   1998.000000     1.000000         3.000000     1.000000   \n",
       "\n",
       "       kamera_depan  memori_internal     tebal_hp     berat_hp  \\\n",
       "count   1500.000000      1500.000000  1500.000000  1500.000000   \n",
       "mean       4.188000        31.952667     0.501467   139.175333   \n",
       "std        4.243976        18.323853     0.288352    35.087225   \n",
       "min        0.000000         2.000000     0.100000    80.000000   \n",
       "25%        1.000000        16.000000     0.200000   108.000000   \n",
       "50%        3.000000        31.000000     0.500000   139.000000   \n",
       "75%        7.000000        48.000000     0.800000   169.000000   \n",
       "max       16.000000        64.000000     1.000000   200.000000   \n",
       "\n",
       "       jumlah_prosesor  kamera_belakang_mp   px_panjang     px_lebar  \\\n",
       "count      1500.000000         1500.000000  1500.000000  1500.000000   \n",
       "mean          4.526667            9.790667   656.468000  1263.966667   \n",
       "std           2.274952            6.054250   445.909214   434.283017   \n",
       "min           1.000000            0.000000     0.000000   500.000000   \n",
       "25%           3.000000            4.000000   293.000000   882.000000   \n",
       "50%           4.000000           10.000000   580.500000  1263.000000   \n",
       "75%           7.000000           15.000000   961.000000  1645.250000   \n",
       "max           8.000000           20.000000  1920.000000  1998.000000   \n",
       "\n",
       "       kapasitas_ram  panjang_layar  lebar_layar  waktu_telfon      three_g  \\\n",
       "count    1500.000000    1500.000000  1500.000000   1500.000000  1500.000000   \n",
       "mean     2101.494667      12.405333     5.840000     11.031333     0.760000   \n",
       "std      1073.742748       4.344992     4.407647      5.479876     0.427226   \n",
       "min       256.000000       5.000000     0.000000      2.000000     0.000000   \n",
       "25%      1202.500000       9.000000     2.000000      6.000000     1.000000   \n",
       "50%      2107.000000      13.000000     5.000000     11.000000     1.000000   \n",
       "75%      2982.250000      16.000000     9.000000     16.000000     1.000000   \n",
       "max      3998.000000      19.000000    18.000000     20.000000     1.000000   \n",
       "\n",
       "       touch_screen         wifi  \n",
       "count   1500.000000  1500.000000  \n",
       "mean       0.494667     0.514000  \n",
       "std        0.500138     0.499971  \n",
       "min        0.000000     0.000000  \n",
       "25%        0.000000     0.000000  \n",
       "50%        0.000000     1.000000  \n",
       "75%        1.000000     1.000000  \n",
       "max        1.000000     1.000000  "
      ]
     },
     "execution_count": 16,
     "metadata": {},
     "output_type": "execute_result"
    }
   ],
   "source": [
    "data_train.describe()"
   ]
  },
  {
   "cell_type": "code",
   "execution_count": 18,
   "metadata": {
    "execution": {
     "iopub.execute_input": "2021-03-28T07:03:21.712735Z",
     "iopub.status.busy": "2021-03-28T07:03:21.711960Z",
     "iopub.status.idle": "2021-03-28T07:03:22.055684Z",
     "shell.execute_reply": "2021-03-28T07:03:22.056255Z"
    },
    "id": "0sHur39fwfsX",
    "outputId": "8342db84-79b0-458b-a9b1-5a2891635c3b",
    "papermill": {
     "duration": 0.383778,
     "end_time": "2021-03-28T07:03:22.056545",
     "exception": false,
     "start_time": "2021-03-28T07:03:21.672767",
     "status": "completed"
    },
    "tags": []
   },
   "outputs": [
    {
     "data": {
      "text/plain": [
       "<AxesSubplot:xlabel='count', ylabel='jumlah_prosesor'>"
      ]
     },
     "execution_count": 18,
     "metadata": {},
     "output_type": "execute_result"
    },
    {
     "data": {
      "image/png": "[encoded data removed]",
      "text/plain": [
       "<Figure size 720x432 with 1 Axes>"
      ]
     },
     "metadata": {
      "needs_background": "light"
     },
     "output_type": "display_data"
    }
   ],
   "source": [
    "# Menganalisa peran jumlah prosessor dalam price_range\n",
    "plt.figure(figsize=(10, 6))\n",
    "sns.countplot(data=data_train,y='jumlah_prosesor',hue='price_range')"
   ]
  },
  {
   "cell_type": "code",
   "execution_count": 22,
   "metadata": {
    "execution": {
     "iopub.execute_input": "2021-03-28T07:03:22.136492Z",
     "iopub.status.busy": "2021-03-28T07:03:22.135697Z",
     "iopub.status.idle": "2021-03-28T07:03:22.703460Z",
     "shell.execute_reply": "2021-03-28T07:03:22.702791Z"
    },
    "id": "BrrO4Rssxqd_",
    "outputId": "0601ce91-e0e6-4c99-8e79-5986c2bcbdbc",
    "papermill": {
     "duration": 0.608821,
     "end_time": "2021-03-28T07:03:22.703630",
     "exception": false,
     "start_time": "2021-03-28T07:03:22.094809",
     "status": "completed"
    },
    "tags": []
   },
   "outputs": [
    {
     "data": {
      "text/plain": [
       "<AxesSubplot:xlabel='count', ylabel='kamera_belakang_mp'>"
      ]
     },
     "execution_count": 22,
     "metadata": {},
     "output_type": "execute_result"
    },
    {
     "data": {
      "image/png": "[encoded data removed]",
      "text/plain": [
       "<Figure size 864x720 with 1 Axes>"
      ]
     },
     "metadata": {
      "needs_background": "light"
     },
     "output_type": "display_data"
    }
   ],
   "source": [
    "# Menganalisa peran kamera_belakang_mp dalam price_range\n",
    "plt.figure(figsize=(12, 10))\n",
    "sns.countplot(data=data_train,y='kamera_belakang_mp',hue='price_range')"
   ]
  },
  {
   "cell_type": "code",
   "execution_count": 23,
   "metadata": {
    "execution": {
     "iopub.execute_input": "2021-03-28T07:03:22.790353Z",
     "iopub.status.busy": "2021-03-28T07:03:22.789134Z",
     "iopub.status.idle": "2021-03-28T07:03:25.607410Z",
     "shell.execute_reply": "2021-03-28T07:03:25.606717Z"
    },
    "id": "uW-0eBlQ5tWM",
    "outputId": "68175e5b-26dd-4af0-a2ef-5d38a4446f8f",
    "papermill": {
     "duration": 2.864635,
     "end_time": "2021-03-28T07:03:25.607579",
     "exception": false,
     "start_time": "2021-03-28T07:03:22.742944",
     "status": "completed"
    },
    "tags": []
   },
   "outputs": [
    {
     "data": {
      "text/plain": [
       "<AxesSubplot:xlabel='kamera_depan', ylabel='kamera_belakang_mp'>"
      ]
     },
     "execution_count": 23,
     "metadata": {},
     "output_type": "execute_result"
    },
    {
     "data": {
      "image/png": "[encoded data removed]",
      "text/plain": [
       "<Figure size 1008x504 with 1 Axes>"
      ]
     },
     "metadata": {
      "needs_background": "light"
     },
     "output_type": "display_data"
    }
   ],
   "source": [
    "# Menganalisa peran kamera_depan dan kamera_belakang terhadap price_range\n",
    "plt.figure(figsize=(14, 7))\n",
    "sns.barplot(data=data_train,x='kamera_depan',y='kamera_belakang_mp',hue='price_range')"
   ]
  },
  {
   "cell_type": "code",
   "execution_count": 26,
   "metadata": {
    "execution": {
     "iopub.execute_input": "2021-03-28T07:03:25.698174Z",
     "iopub.status.busy": "2021-03-28T07:03:25.697245Z",
     "iopub.status.idle": "2021-03-28T07:03:26.224336Z",
     "shell.execute_reply": "2021-03-28T07:03:26.223688Z"
    },
    "id": "yBG3rPCwzKNL",
    "outputId": "46fa5c22-4c17-4043-b7ef-69a7f643f6bf",
    "papermill": {
     "duration": 0.575509,
     "end_time": "2021-03-28T07:03:26.224479",
     "exception": false,
     "start_time": "2021-03-28T07:03:25.648970",
     "status": "completed"
    },
    "tags": []
   },
   "outputs": [
    {
     "data": {
      "text/plain": [
       "<AxesSubplot:xlabel='four_g', ylabel='wifi'>"
      ]
     },
     "execution_count": 26,
     "metadata": {},
     "output_type": "execute_result"
    },
    {
     "data": {
      "image/png": "[encoded data removed]",
      "text/plain": [
       "<Figure size 432x288 with 1 Axes>"
      ]
     },
     "metadata": {
      "needs_background": "light"
     },
     "output_type": "display_data"
    }
   ],
   "source": [
    "# Menganalisa peran four_g dan wifi terhadap price_range\n",
    "plt.figure(figsize=(6, 4))\n",
    "sns.barplot(data=data_train,x='four_g',y='wifi',hue='price_range')"
   ]
  },
  {
   "cell_type": "code",
   "execution_count": 27,
   "metadata": {
    "execution": {
     "iopub.execute_input": "2021-03-28T07:03:26.318185Z",
     "iopub.status.busy": "2021-03-28T07:03:26.317003Z",
     "iopub.status.idle": "2021-03-28T07:03:27.730422Z",
     "shell.execute_reply": "2021-03-28T07:03:27.729862Z"
    },
    "id": "C0nT__E8zVXR",
    "outputId": "fb0ffc44-a3ef-4bbd-ad17-a276f42b015a",
    "papermill": {
     "duration": 1.463809,
     "end_time": "2021-03-28T07:03:27.730595",
     "exception": false,
     "start_time": "2021-03-28T07:03:26.266786",
     "status": "completed"
    },
    "tags": []
   },
   "outputs": [
    {
     "data": {
      "text/plain": [
       "<AxesSubplot:xlabel='jumlah_prosesor', ylabel='memori_internal'>"
      ]
     },
     "execution_count": 27,
     "metadata": {},
     "output_type": "execute_result"
    },
    {
     "data": {
      "image/png": "[encoded data removed]",
      "text/plain": [
       "<Figure size 1440x864 with 1 Axes>"
      ]
     },
     "metadata": {
      "needs_background": "light"
     },
     "output_type": "display_data"
    }
   ],
   "source": [
    "# Menganalisa memori_internal dan jumlah prosesor terhadap price_range\n",
    "plt.figure(figsize=(20,12))\n",
    "sns.barplot(data=data_train,y='memori_internal',x='jumlah_prosesor',hue='price_range')"
   ]
  },
  {
   "cell_type": "code",
   "execution_count": 28,
   "metadata": {
    "execution": {
     "iopub.execute_input": "2021-03-28T07:03:27.826499Z",
     "iopub.status.busy": "2021-03-28T07:03:27.825794Z",
     "iopub.status.idle": "2021-03-28T07:03:32.014448Z",
     "shell.execute_reply": "2021-03-28T07:03:32.015041Z"
    },
    "id": "u3wauJfkz7Fo",
    "outputId": "b9ba8a2d-d1ba-4209-ea49-fe2e33b4cd10",
    "papermill": {
     "duration": 4.240572,
     "end_time": "2021-03-28T07:03:32.015243",
     "exception": false,
     "start_time": "2021-03-28T07:03:27.774671",
     "status": "completed"
    },
    "tags": []
   },
   "outputs": [
    {
     "data": {
      "text/plain": [
       "<AxesSubplot:xlabel='kecepatan_clock', ylabel='daya_baterai'>"
      ]
     },
     "execution_count": 28,
     "metadata": {},
     "output_type": "execute_result"
    },
    {
     "data": {
      "image/png": "[encoded data removed]",
      "text/plain": [
       "<Figure size 936x576 with 1 Axes>"
      ]
     },
     "metadata": {
      "needs_background": "light"
     },
     "output_type": "display_data"
    }
   ],
   "source": [
    "# Menganalisa peran kecepatan_clock dan daya_baterai terhadap price_range\n",
    "plt.figure(figsize=(13,8))\n",
    "sns.barplot(data=data_train,x='kecepatan_clock',y='daya_baterai',hue='price_range')"
   ]
  },
  {
   "cell_type": "code",
   "execution_count": 29,
   "metadata": {
    "execution": {
     "iopub.execute_input": "2021-03-28T07:03:32.119117Z",
     "iopub.status.busy": "2021-03-28T07:03:32.118221Z",
     "iopub.status.idle": "2021-03-28T07:03:32.124322Z",
     "shell.execute_reply": "2021-03-28T07:03:32.123513Z"
    },
    "id": "_myUqMUg0fa3",
    "papermill": {
     "duration": 0.063627,
     "end_time": "2021-03-28T07:03:32.124506",
     "exception": false,
     "start_time": "2021-03-28T07:03:32.060879",
     "status": "completed"
    },
    "tags": []
   },
   "outputs": [],
   "source": [
    "# Me-replace data yang masih memiliki nilai obj ke dalam int\n",
    "price_data = [data_train , data_test]\n",
    "four_G = {'Ya':1 , 'Tidak':0}\n",
    "range = {'0-<1000k': 0 , '1000k-<2000k':1 , '2000k-3000k': 2 , '>3000k':3 }\n",
    "for data in price_data :\n",
    "  data['four_g'] = data['four_g'].replace(four_G)\n",
    "\n",
    "data_train['price_range'] = data_train['price_range'].replace(range)"
   ]
  },
  {
   "cell_type": "code",
   "execution_count": 30,
   "metadata": {
    "execution": {
     "iopub.execute_input": "2021-03-28T07:03:32.241585Z",
     "iopub.status.busy": "2021-03-28T07:03:32.240247Z",
     "iopub.status.idle": "2021-03-28T07:03:32.247492Z",
     "shell.execute_reply": "2021-03-28T07:03:32.246755Z"
    },
    "id": "9P4gr87P3X4r",
    "outputId": "ff81be45-7502-4323-9ea1-4486ac8795fa",
    "papermill": {
     "duration": 0.076913,
     "end_time": "2021-03-28T07:03:32.247665",
     "exception": false,
     "start_time": "2021-03-28T07:03:32.170752",
     "status": "completed"
    },
    "tags": []
   },
   "outputs": [
    {
     "data": {
      "text/html": [
       "<div>\n",
       "<style scoped>\n",
       "    .dataframe tbody tr th:only-of-type {\n",
       "        vertical-align: middle;\n",
       "    }\n",
       "\n",
       "    .dataframe tbody tr th {\n",
       "        vertical-align: top;\n",
       "    }\n",
       "\n",
       "    .dataframe thead th {\n",
       "        text-align: right;\n",
       "    }\n",
       "</style>\n",
       "<table border=\"1\" class=\"dataframe\">\n",
       "  <thead>\n",
       "    <tr style=\"text-align: right;\">\n",
       "      <th></th>\n",
       "      <th>index</th>\n",
       "      <th>daya_baterai</th>\n",
       "      <th>bluetooth</th>\n",
       "      <th>kecepatan_clock</th>\n",
       "      <th>dual_sim</th>\n",
       "      <th>kamera_depan</th>\n",
       "      <th>four_g</th>\n",
       "      <th>memori_internal</th>\n",
       "      <th>tebal_hp</th>\n",
       "      <th>berat_hp</th>\n",
       "      <th>...</th>\n",
       "      <th>px_panjang</th>\n",
       "      <th>px_lebar</th>\n",
       "      <th>kapasitas_ram</th>\n",
       "      <th>panjang_layar</th>\n",
       "      <th>lebar_layar</th>\n",
       "      <th>waktu_telfon</th>\n",
       "      <th>three_g</th>\n",
       "      <th>touch_screen</th>\n",
       "      <th>wifi</th>\n",
       "      <th>price_range</th>\n",
       "    </tr>\n",
       "  </thead>\n",
       "  <tbody>\n",
       "    <tr>\n",
       "      <th>0</th>\n",
       "      <td>1045</td>\n",
       "      <td>531</td>\n",
       "      <td>0</td>\n",
       "      <td>1.1</td>\n",
       "      <td>0</td>\n",
       "      <td>10</td>\n",
       "      <td>0</td>\n",
       "      <td>63</td>\n",
       "      <td>0.7</td>\n",
       "      <td>189</td>\n",
       "      <td>...</td>\n",
       "      <td>145</td>\n",
       "      <td>1903</td>\n",
       "      <td>2958</td>\n",
       "      <td>17.0</td>\n",
       "      <td>1</td>\n",
       "      <td>19</td>\n",
       "      <td>0</td>\n",
       "      <td>1</td>\n",
       "      <td>0</td>\n",
       "      <td>2</td>\n",
       "    </tr>\n",
       "    <tr>\n",
       "      <th>1</th>\n",
       "      <td>937</td>\n",
       "      <td>764</td>\n",
       "      <td>1</td>\n",
       "      <td>1.2</td>\n",
       "      <td>1</td>\n",
       "      <td>1</td>\n",
       "      <td>0</td>\n",
       "      <td>13</td>\n",
       "      <td>1.0</td>\n",
       "      <td>152</td>\n",
       "      <td>...</td>\n",
       "      <td>361</td>\n",
       "      <td>511</td>\n",
       "      <td>3148</td>\n",
       "      <td>18.0</td>\n",
       "      <td>7</td>\n",
       "      <td>6</td>\n",
       "      <td>1</td>\n",
       "      <td>1</td>\n",
       "      <td>0</td>\n",
       "      <td>2</td>\n",
       "    </tr>\n",
       "    <tr>\n",
       "      <th>2</th>\n",
       "      <td>1658</td>\n",
       "      <td>1812</td>\n",
       "      <td>1</td>\n",
       "      <td>1.3</td>\n",
       "      <td>1</td>\n",
       "      <td>4</td>\n",
       "      <td>1</td>\n",
       "      <td>42</td>\n",
       "      <td>1.0</td>\n",
       "      <td>162</td>\n",
       "      <td>...</td>\n",
       "      <td>380</td>\n",
       "      <td>1550</td>\n",
       "      <td>3338</td>\n",
       "      <td>18.0</td>\n",
       "      <td>13</td>\n",
       "      <td>11</td>\n",
       "      <td>1</td>\n",
       "      <td>1</td>\n",
       "      <td>1</td>\n",
       "      <td>3</td>\n",
       "    </tr>\n",
       "    <tr>\n",
       "      <th>3</th>\n",
       "      <td>529</td>\n",
       "      <td>1821</td>\n",
       "      <td>0</td>\n",
       "      <td>0.9</td>\n",
       "      <td>0</td>\n",
       "      <td>9</td>\n",
       "      <td>1</td>\n",
       "      <td>12</td>\n",
       "      <td>0.3</td>\n",
       "      <td>114</td>\n",
       "      <td>...</td>\n",
       "      <td>97</td>\n",
       "      <td>1803</td>\n",
       "      <td>2430</td>\n",
       "      <td>7.0</td>\n",
       "      <td>4</td>\n",
       "      <td>6</td>\n",
       "      <td>1</td>\n",
       "      <td>1</td>\n",
       "      <td>1</td>\n",
       "      <td>2</td>\n",
       "    </tr>\n",
       "    <tr>\n",
       "      <th>4</th>\n",
       "      <td>895</td>\n",
       "      <td>1790</td>\n",
       "      <td>1</td>\n",
       "      <td>2.3</td>\n",
       "      <td>1</td>\n",
       "      <td>3</td>\n",
       "      <td>1</td>\n",
       "      <td>49</td>\n",
       "      <td>0.5</td>\n",
       "      <td>100</td>\n",
       "      <td>...</td>\n",
       "      <td>396</td>\n",
       "      <td>1980</td>\n",
       "      <td>3568</td>\n",
       "      <td>6.0</td>\n",
       "      <td>2</td>\n",
       "      <td>18</td>\n",
       "      <td>1</td>\n",
       "      <td>0</td>\n",
       "      <td>1</td>\n",
       "      <td>3</td>\n",
       "    </tr>\n",
       "  </tbody>\n",
       "</table>\n",
       "<p>5 rows × 22 columns</p>\n",
       "</div>"
      ],
      "text/plain": [
       "   index  daya_baterai  bluetooth  kecepatan_clock  dual_sim  kamera_depan  \\\n",
       "0   1045           531          0              1.1         0            10   \n",
       "1    937           764          1              1.2         1             1   \n",
       "2   1658          1812          1              1.3         1             4   \n",
       "3    529          1821          0              0.9         0             9   \n",
       "4    895          1790          1              2.3         1             3   \n",
       "\n",
       "   four_g  memori_internal  tebal_hp  berat_hp  ...  px_panjang  px_lebar  \\\n",
       "0       0               63       0.7       189  ...         145      1903   \n",
       "1       0               13       1.0       152  ...         361       511   \n",
       "2       1               42       1.0       162  ...         380      1550   \n",
       "3       1               12       0.3       114  ...          97      1803   \n",
       "4       1               49       0.5       100  ...         396      1980   \n",
       "\n",
       "   kapasitas_ram  panjang_layar  lebar_layar  waktu_telfon  three_g  \\\n",
       "0           2958           17.0            1            19        0   \n",
       "1           3148           18.0            7             6        1   \n",
       "2           3338           18.0           13            11        1   \n",
       "3           2430            7.0            4             6        1   \n",
       "4           3568            6.0            2            18        1   \n",
       "\n",
       "   touch_screen  wifi  price_range  \n",
       "0             1     0            2  \n",
       "1             1     0            2  \n",
       "2             1     1            3  \n",
       "3             1     1            2  \n",
       "4             0     1            3  \n",
       "\n",
       "[5 rows x 22 columns]"
      ]
     },
     "execution_count": 30,
     "metadata": {},
     "output_type": "execute_result"
    }
   ],
   "source": [
    "#Mengecek pergantian data setelah di replace\n",
    "data_train.head()"
   ]
  },
  {
   "cell_type": "code",
   "execution_count": 31,
   "metadata": {
    "execution": {
     "iopub.execute_input": "2021-03-28T07:03:32.364812Z",
     "iopub.status.busy": "2021-03-28T07:03:32.355588Z",
     "iopub.status.idle": "2021-03-28T07:03:32.370894Z",
     "shell.execute_reply": "2021-03-28T07:03:32.369967Z"
    },
    "id": "9DpoumGGAO8L",
    "outputId": "1efd2a44-fb28-4429-8635-b9e4e455f605",
    "papermill": {
     "duration": 0.076237,
     "end_time": "2021-03-28T07:03:32.371128",
     "exception": false,
     "start_time": "2021-03-28T07:03:32.294891",
     "status": "completed"
    },
    "tags": []
   },
   "outputs": [
    {
     "data": {
      "text/html": [
       "<div>\n",
       "<style scoped>\n",
       "    .dataframe tbody tr th:only-of-type {\n",
       "        vertical-align: middle;\n",
       "    }\n",
       "\n",
       "    .dataframe tbody tr th {\n",
       "        vertical-align: top;\n",
       "    }\n",
       "\n",
       "    .dataframe thead th {\n",
       "        text-align: right;\n",
       "    }\n",
       "</style>\n",
       "<table border=\"1\" class=\"dataframe\">\n",
       "  <thead>\n",
       "    <tr style=\"text-align: right;\">\n",
       "      <th></th>\n",
       "      <th>index</th>\n",
       "      <th>daya_baterai</th>\n",
       "      <th>bluetooth</th>\n",
       "      <th>kecepatan_clock</th>\n",
       "      <th>dual_sim</th>\n",
       "      <th>kamera_depan</th>\n",
       "      <th>four_g</th>\n",
       "      <th>memori_internal</th>\n",
       "      <th>tebal_hp</th>\n",
       "      <th>berat_hp</th>\n",
       "      <th>...</th>\n",
       "      <th>kamera_belakang_mp</th>\n",
       "      <th>px_panjang</th>\n",
       "      <th>px_lebar</th>\n",
       "      <th>kapasitas_ram</th>\n",
       "      <th>panjang_layar</th>\n",
       "      <th>lebar_layar</th>\n",
       "      <th>waktu_telfon</th>\n",
       "      <th>three_g</th>\n",
       "      <th>touch_screen</th>\n",
       "      <th>wifi</th>\n",
       "    </tr>\n",
       "  </thead>\n",
       "  <tbody>\n",
       "    <tr>\n",
       "      <th>0</th>\n",
       "      <td>405</td>\n",
       "      <td>1454</td>\n",
       "      <td>1</td>\n",
       "      <td>0.5</td>\n",
       "      <td>1</td>\n",
       "      <td>1</td>\n",
       "      <td>0</td>\n",
       "      <td>34</td>\n",
       "      <td>0.7</td>\n",
       "      <td>83</td>\n",
       "      <td>...</td>\n",
       "      <td>3</td>\n",
       "      <td>250</td>\n",
       "      <td>1033</td>\n",
       "      <td>3419</td>\n",
       "      <td>7</td>\n",
       "      <td>5</td>\n",
       "      <td>5</td>\n",
       "      <td>1</td>\n",
       "      <td>1</td>\n",
       "      <td>0</td>\n",
       "    </tr>\n",
       "    <tr>\n",
       "      <th>1</th>\n",
       "      <td>1190</td>\n",
       "      <td>1092</td>\n",
       "      <td>1</td>\n",
       "      <td>0.5</td>\n",
       "      <td>1</td>\n",
       "      <td>10</td>\n",
       "      <td>0</td>\n",
       "      <td>11</td>\n",
       "      <td>0.5</td>\n",
       "      <td>167</td>\n",
       "      <td>...</td>\n",
       "      <td>14</td>\n",
       "      <td>468</td>\n",
       "      <td>571</td>\n",
       "      <td>737</td>\n",
       "      <td>14</td>\n",
       "      <td>4</td>\n",
       "      <td>11</td>\n",
       "      <td>0</td>\n",
       "      <td>1</td>\n",
       "      <td>0</td>\n",
       "    </tr>\n",
       "    <tr>\n",
       "      <th>2</th>\n",
       "      <td>1132</td>\n",
       "      <td>1524</td>\n",
       "      <td>1</td>\n",
       "      <td>1.8</td>\n",
       "      <td>1</td>\n",
       "      <td>0</td>\n",
       "      <td>0</td>\n",
       "      <td>10</td>\n",
       "      <td>0.6</td>\n",
       "      <td>174</td>\n",
       "      <td>...</td>\n",
       "      <td>1</td>\n",
       "      <td>154</td>\n",
       "      <td>550</td>\n",
       "      <td>2678</td>\n",
       "      <td>16</td>\n",
       "      <td>5</td>\n",
       "      <td>13</td>\n",
       "      <td>1</td>\n",
       "      <td>0</td>\n",
       "      <td>1</td>\n",
       "    </tr>\n",
       "    <tr>\n",
       "      <th>3</th>\n",
       "      <td>731</td>\n",
       "      <td>1807</td>\n",
       "      <td>1</td>\n",
       "      <td>2.1</td>\n",
       "      <td>0</td>\n",
       "      <td>2</td>\n",
       "      <td>0</td>\n",
       "      <td>49</td>\n",
       "      <td>0.8</td>\n",
       "      <td>125</td>\n",
       "      <td>...</td>\n",
       "      <td>10</td>\n",
       "      <td>337</td>\n",
       "      <td>1384</td>\n",
       "      <td>1906</td>\n",
       "      <td>17</td>\n",
       "      <td>13</td>\n",
       "      <td>13</td>\n",
       "      <td>0</td>\n",
       "      <td>1</td>\n",
       "      <td>1</td>\n",
       "    </tr>\n",
       "    <tr>\n",
       "      <th>4</th>\n",
       "      <td>1754</td>\n",
       "      <td>1086</td>\n",
       "      <td>1</td>\n",
       "      <td>1.7</td>\n",
       "      <td>1</td>\n",
       "      <td>0</td>\n",
       "      <td>1</td>\n",
       "      <td>43</td>\n",
       "      <td>0.2</td>\n",
       "      <td>111</td>\n",
       "      <td>...</td>\n",
       "      <td>1</td>\n",
       "      <td>56</td>\n",
       "      <td>1150</td>\n",
       "      <td>3285</td>\n",
       "      <td>11</td>\n",
       "      <td>5</td>\n",
       "      <td>17</td>\n",
       "      <td>1</td>\n",
       "      <td>1</td>\n",
       "      <td>0</td>\n",
       "    </tr>\n",
       "  </tbody>\n",
       "</table>\n",
       "<p>5 rows × 21 columns</p>\n",
       "</div>"
      ],
      "text/plain": [
       "   index  daya_baterai  bluetooth  kecepatan_clock  dual_sim  kamera_depan  \\\n",
       "0    405          1454          1              0.5         1             1   \n",
       "1   1190          1092          1              0.5         1            10   \n",
       "2   1132          1524          1              1.8         1             0   \n",
       "3    731          1807          1              2.1         0             2   \n",
       "4   1754          1086          1              1.7         1             0   \n",
       "\n",
       "   four_g  memori_internal  tebal_hp  berat_hp  ...  kamera_belakang_mp  \\\n",
       "0       0               34       0.7        83  ...                   3   \n",
       "1       0               11       0.5       167  ...                  14   \n",
       "2       0               10       0.6       174  ...                   1   \n",
       "3       0               49       0.8       125  ...                  10   \n",
       "4       1               43       0.2       111  ...                   1   \n",
       "\n",
       "   px_panjang  px_lebar  kapasitas_ram  panjang_layar  lebar_layar  \\\n",
       "0         250      1033           3419              7            5   \n",
       "1         468       571            737             14            4   \n",
       "2         154       550           2678             16            5   \n",
       "3         337      1384           1906             17           13   \n",
       "4          56      1150           3285             11            5   \n",
       "\n",
       "   waktu_telfon  three_g  touch_screen  wifi  \n",
       "0             5        1             1     0  \n",
       "1            11        0             1     0  \n",
       "2            13        1             0     1  \n",
       "3            13        0             1     1  \n",
       "4            17        1             1     0  \n",
       "\n",
       "[5 rows x 21 columns]"
      ]
     },
     "execution_count": 31,
     "metadata": {},
     "output_type": "execute_result"
    }
   ],
   "source": [
    "data_test.head()"
   ]
  },
  {
   "cell_type": "markdown",
   "metadata": {
    "id": "EBqMt4YPAWUe",
    "papermill": {
     "duration": 0.059696,
     "end_time": "2021-03-28T07:03:32.501311",
     "exception": false,
     "start_time": "2021-03-28T07:03:32.441615",
     "status": "completed"
    },
    "tags": []
   },
   "source": [
    "### Training Data dan Modeling"
   ]
  },
  {
   "cell_type": "code",
   "execution_count": 32,
   "metadata": {
    "execution": {
     "iopub.execute_input": "2021-03-28T07:03:32.617108Z",
     "iopub.status.busy": "2021-03-28T07:03:32.616395Z",
     "iopub.status.idle": "2021-03-28T07:03:32.618438Z",
     "shell.execute_reply": "2021-03-28T07:03:32.618913Z"
    },
    "id": "kkEPWFCE-NMh",
    "papermill": {
     "duration": 0.057081,
     "end_time": "2021-03-28T07:03:32.619101",
     "exception": false,
     "start_time": "2021-03-28T07:03:32.562020",
     "status": "completed"
    },
    "tags": []
   },
   "outputs": [],
   "source": [
    "# Menentukan nilai x dan y dalam melakukan training data\n",
    "x = data_train.drop(['index','price_range'],axis=1)\n",
    "y = data_train['price_range']"
   ]
  },
  {
   "cell_type": "code",
   "execution_count": 33,
   "metadata": {
    "execution": {
     "iopub.execute_input": "2021-03-28T07:03:32.718665Z",
     "iopub.status.busy": "2021-03-28T07:03:32.717944Z",
     "iopub.status.idle": "2021-03-28T07:03:32.724509Z",
     "shell.execute_reply": "2021-03-28T07:03:32.725080Z"
    },
    "id": "U_qJlphuAtAD",
    "papermill": {
     "duration": 0.058082,
     "end_time": "2021-03-28T07:03:32.725258",
     "exception": false,
     "start_time": "2021-03-28T07:03:32.667176",
     "status": "completed"
    },
    "tags": []
   },
   "outputs": [],
   "source": [
    "# Spliting data\n",
    "x_train, x_test, y_train, y_test = train_test_split(x, y, \n",
    "test_size=0.25, random_state=0)"
   ]
  },
  {
   "cell_type": "code",
   "execution_count": 34,
   "metadata": {
    "execution": {
     "iopub.execute_input": "2021-03-28T07:03:32.823974Z",
     "iopub.status.busy": "2021-03-28T07:03:32.823129Z",
     "iopub.status.idle": "2021-03-28T07:03:32.853665Z",
     "shell.execute_reply": "2021-03-28T07:03:32.852771Z"
    },
    "id": "Tts_92MPKVmP",
    "outputId": "0330655e-40d8-4b26-ae14-8893009dda64",
    "papermill": {
     "duration": 0.081086,
     "end_time": "2021-03-28T07:03:32.853857",
     "exception": false,
     "start_time": "2021-03-28T07:03:32.772771",
     "status": "completed"
    },
    "tags": []
   },
   "outputs": [
    {
     "data": {
      "text/html": [
       "<div>\n",
       "<style scoped>\n",
       "    .dataframe tbody tr th:only-of-type {\n",
       "        vertical-align: middle;\n",
       "    }\n",
       "\n",
       "    .dataframe tbody tr th {\n",
       "        vertical-align: top;\n",
       "    }\n",
       "\n",
       "    .dataframe thead th {\n",
       "        text-align: right;\n",
       "    }\n",
       "</style>\n",
       "<table border=\"1\" class=\"dataframe\">\n",
       "  <thead>\n",
       "    <tr style=\"text-align: right;\">\n",
       "      <th></th>\n",
       "      <th>daya_baterai</th>\n",
       "      <th>bluetooth</th>\n",
       "      <th>kecepatan_clock</th>\n",
       "      <th>dual_sim</th>\n",
       "      <th>kamera_depan</th>\n",
       "      <th>four_g</th>\n",
       "      <th>memori_internal</th>\n",
       "      <th>tebal_hp</th>\n",
       "      <th>berat_hp</th>\n",
       "      <th>jumlah_prosesor</th>\n",
       "      <th>kamera_belakang_mp</th>\n",
       "      <th>px_panjang</th>\n",
       "      <th>px_lebar</th>\n",
       "      <th>kapasitas_ram</th>\n",
       "      <th>panjang_layar</th>\n",
       "      <th>lebar_layar</th>\n",
       "      <th>waktu_telfon</th>\n",
       "      <th>three_g</th>\n",
       "      <th>touch_screen</th>\n",
       "      <th>wifi</th>\n",
       "    </tr>\n",
       "  </thead>\n",
       "  <tbody>\n",
       "    <tr>\n",
       "      <th>247</th>\n",
       "      <td>1394</td>\n",
       "      <td>1</td>\n",
       "      <td>0.9</td>\n",
       "      <td>1</td>\n",
       "      <td>10</td>\n",
       "      <td>1</td>\n",
       "      <td>62</td>\n",
       "      <td>0.3</td>\n",
       "      <td>175</td>\n",
       "      <td>5</td>\n",
       "      <td>13</td>\n",
       "      <td>1010</td>\n",
       "      <td>1565</td>\n",
       "      <td>473</td>\n",
       "      <td>11.0</td>\n",
       "      <td>1</td>\n",
       "      <td>20</td>\n",
       "      <td>1</td>\n",
       "      <td>1</td>\n",
       "      <td>0</td>\n",
       "    </tr>\n",
       "    <tr>\n",
       "      <th>678</th>\n",
       "      <td>1604</td>\n",
       "      <td>1</td>\n",
       "      <td>1.7</td>\n",
       "      <td>0</td>\n",
       "      <td>2</td>\n",
       "      <td>0</td>\n",
       "      <td>33</td>\n",
       "      <td>1.0</td>\n",
       "      <td>191</td>\n",
       "      <td>8</td>\n",
       "      <td>5</td>\n",
       "      <td>134</td>\n",
       "      <td>939</td>\n",
       "      <td>916</td>\n",
       "      <td>13.0</td>\n",
       "      <td>10</td>\n",
       "      <td>12</td>\n",
       "      <td>0</td>\n",
       "      <td>1</td>\n",
       "      <td>1</td>\n",
       "    </tr>\n",
       "    <tr>\n",
       "      <th>722</th>\n",
       "      <td>1673</td>\n",
       "      <td>0</td>\n",
       "      <td>2.8</td>\n",
       "      <td>1</td>\n",
       "      <td>7</td>\n",
       "      <td>0</td>\n",
       "      <td>9</td>\n",
       "      <td>0.1</td>\n",
       "      <td>187</td>\n",
       "      <td>3</td>\n",
       "      <td>10</td>\n",
       "      <td>65</td>\n",
       "      <td>734</td>\n",
       "      <td>3669</td>\n",
       "      <td>9.0</td>\n",
       "      <td>1</td>\n",
       "      <td>10</td>\n",
       "      <td>1</td>\n",
       "      <td>0</td>\n",
       "      <td>1</td>\n",
       "    </tr>\n",
       "    <tr>\n",
       "      <th>590</th>\n",
       "      <td>1375</td>\n",
       "      <td>0</td>\n",
       "      <td>0.5</td>\n",
       "      <td>1</td>\n",
       "      <td>2</td>\n",
       "      <td>1</td>\n",
       "      <td>35</td>\n",
       "      <td>0.1</td>\n",
       "      <td>194</td>\n",
       "      <td>2</td>\n",
       "      <td>3</td>\n",
       "      <td>227</td>\n",
       "      <td>772</td>\n",
       "      <td>1947</td>\n",
       "      <td>15.0</td>\n",
       "      <td>13</td>\n",
       "      <td>15</td>\n",
       "      <td>1</td>\n",
       "      <td>1</td>\n",
       "      <td>1</td>\n",
       "    </tr>\n",
       "    <tr>\n",
       "      <th>186</th>\n",
       "      <td>591</td>\n",
       "      <td>0</td>\n",
       "      <td>2.1</td>\n",
       "      <td>1</td>\n",
       "      <td>16</td>\n",
       "      <td>1</td>\n",
       "      <td>16</td>\n",
       "      <td>0.5</td>\n",
       "      <td>196</td>\n",
       "      <td>7</td>\n",
       "      <td>20</td>\n",
       "      <td>952</td>\n",
       "      <td>1726</td>\n",
       "      <td>704</td>\n",
       "      <td>14.0</td>\n",
       "      <td>5</td>\n",
       "      <td>4</td>\n",
       "      <td>1</td>\n",
       "      <td>1</td>\n",
       "      <td>1</td>\n",
       "    </tr>\n",
       "    <tr>\n",
       "      <th>...</th>\n",
       "      <td>...</td>\n",
       "      <td>...</td>\n",
       "      <td>...</td>\n",
       "      <td>...</td>\n",
       "      <td>...</td>\n",
       "      <td>...</td>\n",
       "      <td>...</td>\n",
       "      <td>...</td>\n",
       "      <td>...</td>\n",
       "      <td>...</td>\n",
       "      <td>...</td>\n",
       "      <td>...</td>\n",
       "      <td>...</td>\n",
       "      <td>...</td>\n",
       "      <td>...</td>\n",
       "      <td>...</td>\n",
       "      <td>...</td>\n",
       "      <td>...</td>\n",
       "      <td>...</td>\n",
       "      <td>...</td>\n",
       "    </tr>\n",
       "    <tr>\n",
       "      <th>763</th>\n",
       "      <td>1832</td>\n",
       "      <td>0</td>\n",
       "      <td>0.7</td>\n",
       "      <td>0</td>\n",
       "      <td>2</td>\n",
       "      <td>0</td>\n",
       "      <td>2</td>\n",
       "      <td>0.6</td>\n",
       "      <td>90</td>\n",
       "      <td>7</td>\n",
       "      <td>6</td>\n",
       "      <td>186</td>\n",
       "      <td>654</td>\n",
       "      <td>2978</td>\n",
       "      <td>18.0</td>\n",
       "      <td>7</td>\n",
       "      <td>18</td>\n",
       "      <td>0</td>\n",
       "      <td>0</td>\n",
       "      <td>0</td>\n",
       "    </tr>\n",
       "    <tr>\n",
       "      <th>835</th>\n",
       "      <td>1925</td>\n",
       "      <td>0</td>\n",
       "      <td>3.0</td>\n",
       "      <td>1</td>\n",
       "      <td>0</td>\n",
       "      <td>1</td>\n",
       "      <td>16</td>\n",
       "      <td>0.8</td>\n",
       "      <td>175</td>\n",
       "      <td>8</td>\n",
       "      <td>11</td>\n",
       "      <td>983</td>\n",
       "      <td>1087</td>\n",
       "      <td>2173</td>\n",
       "      <td>7.0</td>\n",
       "      <td>3</td>\n",
       "      <td>19</td>\n",
       "      <td>1</td>\n",
       "      <td>1</td>\n",
       "      <td>0</td>\n",
       "    </tr>\n",
       "    <tr>\n",
       "      <th>1216</th>\n",
       "      <td>1312</td>\n",
       "      <td>0</td>\n",
       "      <td>1.3</td>\n",
       "      <td>0</td>\n",
       "      <td>5</td>\n",
       "      <td>1</td>\n",
       "      <td>10</td>\n",
       "      <td>0.6</td>\n",
       "      <td>163</td>\n",
       "      <td>2</td>\n",
       "      <td>9</td>\n",
       "      <td>95</td>\n",
       "      <td>893</td>\n",
       "      <td>3941</td>\n",
       "      <td>6.0</td>\n",
       "      <td>2</td>\n",
       "      <td>13</td>\n",
       "      <td>1</td>\n",
       "      <td>1</td>\n",
       "      <td>1</td>\n",
       "    </tr>\n",
       "    <tr>\n",
       "      <th>559</th>\n",
       "      <td>999</td>\n",
       "      <td>0</td>\n",
       "      <td>2.9</td>\n",
       "      <td>1</td>\n",
       "      <td>11</td>\n",
       "      <td>1</td>\n",
       "      <td>64</td>\n",
       "      <td>0.2</td>\n",
       "      <td>199</td>\n",
       "      <td>4</td>\n",
       "      <td>19</td>\n",
       "      <td>1397</td>\n",
       "      <td>1616</td>\n",
       "      <td>2593</td>\n",
       "      <td>14.0</td>\n",
       "      <td>11</td>\n",
       "      <td>16</td>\n",
       "      <td>1</td>\n",
       "      <td>1</td>\n",
       "      <td>0</td>\n",
       "    </tr>\n",
       "    <tr>\n",
       "      <th>684</th>\n",
       "      <td>990</td>\n",
       "      <td>1</td>\n",
       "      <td>2.7</td>\n",
       "      <td>1</td>\n",
       "      <td>3</td>\n",
       "      <td>0</td>\n",
       "      <td>15</td>\n",
       "      <td>0.9</td>\n",
       "      <td>153</td>\n",
       "      <td>2</td>\n",
       "      <td>7</td>\n",
       "      <td>1466</td>\n",
       "      <td>1717</td>\n",
       "      <td>2698</td>\n",
       "      <td>11.0</td>\n",
       "      <td>8</td>\n",
       "      <td>6</td>\n",
       "      <td>1</td>\n",
       "      <td>0</td>\n",
       "      <td>0</td>\n",
       "    </tr>\n",
       "  </tbody>\n",
       "</table>\n",
       "<p>1125 rows × 20 columns</p>\n",
       "</div>"
      ],
      "text/plain": [
       "      daya_baterai  bluetooth  kecepatan_clock  dual_sim  kamera_depan  \\\n",
       "247           1394          1              0.9         1            10   \n",
       "678           1604          1              1.7         0             2   \n",
       "722           1673          0              2.8         1             7   \n",
       "590           1375          0              0.5         1             2   \n",
       "186            591          0              2.1         1            16   \n",
       "...            ...        ...              ...       ...           ...   \n",
       "763           1832          0              0.7         0             2   \n",
       "835           1925          0              3.0         1             0   \n",
       "1216          1312          0              1.3         0             5   \n",
       "559            999          0              2.9         1            11   \n",
       "684            990          1              2.7         1             3   \n",
       "\n",
       "      four_g  memori_internal  tebal_hp  berat_hp  jumlah_prosesor  \\\n",
       "247        1               62       0.3       175                5   \n",
       "678        0               33       1.0       191                8   \n",
       "722        0                9       0.1       187                3   \n",
       "590        1               35       0.1       194                2   \n",
       "186        1               16       0.5       196                7   \n",
       "...      ...              ...       ...       ...              ...   \n",
       "763        0                2       0.6        90                7   \n",
       "835        1               16       0.8       175                8   \n",
       "1216       1               10       0.6       163                2   \n",
       "559        1               64       0.2       199                4   \n",
       "684        0               15       0.9       153                2   \n",
       "\n",
       "      kamera_belakang_mp  px_panjang  px_lebar  kapasitas_ram  panjang_layar  \\\n",
       "247                   13        1010      1565            473           11.0   \n",
       "678                    5         134       939            916           13.0   \n",
       "722                   10          65       734           3669            9.0   \n",
       "590                    3         227       772           1947           15.0   \n",
       "186                   20         952      1726            704           14.0   \n",
       "...                  ...         ...       ...            ...            ...   \n",
       "763                    6         186       654           2978           18.0   \n",
       "835                   11         983      1087           2173            7.0   \n",
       "1216                   9          95       893           3941            6.0   \n",
       "559                   19        1397      1616           2593           14.0   \n",
       "684                    7        1466      1717           2698           11.0   \n",
       "\n",
       "      lebar_layar  waktu_telfon  three_g  touch_screen  wifi  \n",
       "247             1            20        1             1     0  \n",
       "678            10            12        0             1     1  \n",
       "722             1            10        1             0     1  \n",
       "590            13            15        1             1     1  \n",
       "186             5             4        1             1     1  \n",
       "...           ...           ...      ...           ...   ...  \n",
       "763             7            18        0             0     0  \n",
       "835             3            19        1             1     0  \n",
       "1216            2            13        1             1     1  \n",
       "559            11            16        1             1     0  \n",
       "684             8             6        1             0     0  \n",
       "\n",
       "[1125 rows x 20 columns]"
      ]
     },
     "execution_count": 34,
     "metadata": {},
     "output_type": "execute_result"
    }
   ],
   "source": [
    "# Mengecek apakah data x_train sesuai yang diharapkan\n",
    "x_train"
   ]
  },
  {
   "cell_type": "code",
   "execution_count": 35,
   "metadata": {
    "execution": {
     "iopub.execute_input": "2021-03-28T07:03:32.959775Z",
     "iopub.status.busy": "2021-03-28T07:03:32.958742Z",
     "iopub.status.idle": "2021-03-28T07:03:32.963426Z",
     "shell.execute_reply": "2021-03-28T07:03:32.962862Z"
    },
    "id": "PyYtv6sSKfwU",
    "outputId": "f59df7c2-6d7a-4285-9ce2-46f7f931b7b3",
    "papermill": {
     "duration": 0.060282,
     "end_time": "2021-03-28T07:03:32.963600",
     "exception": false,
     "start_time": "2021-03-28T07:03:32.903318",
     "status": "completed"
    },
    "tags": []
   },
   "outputs": [
    {
     "data": {
      "text/plain": [
       "247     0\n",
       "678     0\n",
       "722     3\n",
       "590     1\n",
       "186     0\n",
       "       ..\n",
       "763     2\n",
       "835     2\n",
       "1216    3\n",
       "559     2\n",
       "684     2\n",
       "Name: price_range, Length: 1125, dtype: int64"
      ]
     },
     "execution_count": 35,
     "metadata": {},
     "output_type": "execute_result"
    }
   ],
   "source": [
    "# Mengecek apakah data y_train sesuai yang diharapkan\n",
    "y_train"
   ]
  },
  {
   "cell_type": "code",
   "execution_count": 36,
   "metadata": {
    "execution": {
     "iopub.execute_input": "2021-03-28T07:03:33.065339Z",
     "iopub.status.busy": "2021-03-28T07:03:33.064618Z",
     "iopub.status.idle": "2021-03-28T07:04:31.383830Z",
     "shell.execute_reply": "2021-03-28T07:04:31.383201Z"
    },
    "id": "ulqIs_WyCGUJ",
    "outputId": "0e7eb750-9a3c-4310-990a-6f4a8a82f535",
    "papermill": {
     "duration": 58.371388,
     "end_time": "2021-03-28T07:04:31.384007",
     "exception": false,
     "start_time": "2021-03-28T07:03:33.012619",
     "status": "completed"
    },
    "tags": []
   },
   "outputs": [
    {
     "name": "stdout",
     "output_type": "stream",
     "text": [
      "LR: 0.621335 (0.069035)\n",
      "LDA: 0.931642 (0.034962)\n",
      "KNN: 0.917293 (0.028958)\n",
      "DTS: 0.793781 (0.046559)\n",
      "Gauss: 0.799013 (0.055631)\n",
      "GBC: 0.872885 (0.047263)\n",
      "RFC: 0.853211 (0.062086)\n",
      "MPL: 0.614176 (0.064725)\n",
      "SVC: 0.940398 (0.034930)\n",
      "Ada: 0.647149 (0.094033)\n",
      "QDA: 0.906626 (0.042514)\n"
     ]
    }
   ],
   "source": [
    "# Pemilihan model yang cocok untuk data_train\n",
    "algo = []\n",
    "algo.append(('LR',LogisticRegression()))\n",
    "algo.append(('LDA',LinearDiscriminantAnalysis()))\n",
    "algo.append(('KNN',KNeighborsClassifier()))\n",
    "algo.append(('DTS',DecisionTreeClassifier()))\n",
    "algo.append(('Gauss',GaussianNB()))\n",
    "algo.append(('GBC',GradientBoostingClassifier()))\n",
    "algo.append(('RFC',RandomForestClassifier()))\n",
    "algo.append(('MPL',MLPClassifier()))\n",
    "algo.append(('SVC',SVC()))\n",
    "algo.append(('Ada',AdaBoostClassifier()))\n",
    "algo.append(('QDA',QuadraticDiscriminantAnalysis()))\n",
    "\n",
    "result = []\n",
    "names = []\n",
    "for name , algorit in algo :\n",
    "  kfold = KFold(n_splits=20,random_state=10,shuffle=True)\n",
    "  cv_result = cross_val_score(algorit,x_train,y_train,cv=kfold,scoring='accuracy')\n",
    "  result.append(cv_result)\n",
    "  names.append(name)\n",
    "  info = \"%s: %f (%f)\" % (name, cv_result.mean(), cv_result.std())\n",
    "  print(info)"
   ]
  },
  {
   "cell_type": "code",
   "execution_count": 37,
   "metadata": {
    "execution": {
     "iopub.execute_input": "2021-03-28T07:04:31.495318Z",
     "iopub.status.busy": "2021-03-28T07:04:31.494529Z",
     "iopub.status.idle": "2021-03-28T07:04:31.509820Z",
     "shell.execute_reply": "2021-03-28T07:04:31.510906Z"
    },
    "id": "Ci8KQivyQ9H-",
    "outputId": "746a17c2-41c7-41a0-883c-fd49a18879d4",
    "papermill": {
     "duration": 0.075405,
     "end_time": "2021-03-28T07:04:31.511220",
     "exception": false,
     "start_time": "2021-03-28T07:04:31.435815",
     "status": "completed"
    },
    "tags": []
   },
   "outputs": [
    {
     "name": "stdout",
     "output_type": "stream",
     "text": [
      "Accuracy model 0.946667 \n"
     ]
    }
   ],
   "source": [
    "# Klasifikasi kembali Model dengan 3 nilai tertinggi\n",
    "# LinearDiscriminantAnalysis\n",
    "LDA = LinearDiscriminantAnalysis()\n",
    "LDA.fit(x_train,y_train)\n",
    "predLDA = LDA.predict(x_test)\n",
    "accLDA = accuracy_score(y_test , predLDA)\n",
    "print ('Accuracy model {:.6f} '.format(accLDA))"
   ]
  },
  {
   "cell_type": "code",
   "execution_count": 38,
   "metadata": {
    "execution": {
     "iopub.execute_input": "2021-03-28T07:04:31.669372Z",
     "iopub.status.busy": "2021-03-28T07:04:31.668683Z",
     "iopub.status.idle": "2021-03-28T07:04:31.679415Z",
     "shell.execute_reply": "2021-03-28T07:04:31.678694Z"
    },
    "id": "N-ynd1ajC3U5",
    "outputId": "3fa6b01e-f3f9-48e7-e085-1d0dea81a314",
    "papermill": {
     "duration": 0.07474,
     "end_time": "2021-03-28T07:04:31.679601",
     "exception": false,
     "start_time": "2021-03-28T07:04:31.604861",
     "status": "completed"
    },
    "tags": []
   },
   "outputs": [
    {
     "name": "stdout",
     "output_type": "stream",
     "text": [
      "              precision    recall  f1-score   support\n",
      "\n",
      "           0       0.98      0.98      0.98        91\n",
      "           1       0.90      0.95      0.92        93\n",
      "           2       0.93      0.93      0.93       107\n",
      "           3       1.00      0.94      0.97        84\n",
      "\n",
      "    accuracy                           0.95       375\n",
      "   macro avg       0.95      0.95      0.95       375\n",
      "weighted avg       0.95      0.95      0.95       375\n",
      "\n"
     ]
    }
   ],
   "source": [
    "print (classification_report(y_test, predLDA))"
   ]
  },
  {
   "cell_type": "code",
   "execution_count": 39,
   "metadata": {
    "execution": {
     "iopub.execute_input": "2021-03-28T07:04:31.794030Z",
     "iopub.status.busy": "2021-03-28T07:04:31.792940Z",
     "iopub.status.idle": "2021-03-28T07:04:31.831100Z",
     "shell.execute_reply": "2021-03-28T07:04:31.830486Z"
    },
    "id": "kR2obgCLS1IN",
    "outputId": "0666a490-7cc4-4059-f7fd-c5ac8dfbf182",
    "papermill": {
     "duration": 0.098909,
     "end_time": "2021-03-28T07:04:31.831251",
     "exception": false,
     "start_time": "2021-03-28T07:04:31.732342",
     "status": "completed"
    },
    "tags": []
   },
   "outputs": [
    {
     "name": "stdout",
     "output_type": "stream",
     "text": [
      "Accuracy model 0.930667 \n"
     ]
    }
   ],
   "source": [
    "# KNN\n",
    "KNN = KNeighborsClassifier()\n",
    "KNN.fit(x_train,y_train)\n",
    "predKNN = KNN.predict(x_test)\n",
    "accKNN = accuracy_score(y_test , predKNN)\n",
    "print ('Accuracy model {:.6f} '.format(accKNN))"
   ]
  },
  {
   "cell_type": "code",
   "execution_count": 40,
   "metadata": {
    "execution": {
     "iopub.execute_input": "2021-03-28T07:04:31.943203Z",
     "iopub.status.busy": "2021-03-28T07:04:31.942430Z",
     "iopub.status.idle": "2021-03-28T07:04:31.951177Z",
     "shell.execute_reply": "2021-03-28T07:04:31.951809Z"
    },
    "id": "6fbdAUvjCxWS",
    "outputId": "59793efe-d466-43f7-8cdb-bc4f352d4c38",
    "papermill": {
     "duration": 0.067564,
     "end_time": "2021-03-28T07:04:31.951986",
     "exception": false,
     "start_time": "2021-03-28T07:04:31.884422",
     "status": "completed"
    },
    "tags": []
   },
   "outputs": [
    {
     "name": "stdout",
     "output_type": "stream",
     "text": [
      "              precision    recall  f1-score   support\n",
      "\n",
      "           0       0.98      0.99      0.98        91\n",
      "           1       0.92      0.91      0.92        93\n",
      "           2       0.89      0.90      0.89       107\n",
      "           3       0.94      0.93      0.93        84\n",
      "\n",
      "    accuracy                           0.93       375\n",
      "   macro avg       0.93      0.93      0.93       375\n",
      "weighted avg       0.93      0.93      0.93       375\n",
      "\n"
     ]
    }
   ],
   "source": [
    "print (classification_report(y_test, predKNN))"
   ]
  },
  {
   "cell_type": "code",
   "execution_count": 41,
   "metadata": {
    "execution": {
     "iopub.execute_input": "2021-03-28T07:04:32.067483Z",
     "iopub.status.busy": "2021-03-28T07:04:32.066797Z",
     "iopub.status.idle": "2021-03-28T07:04:32.090011Z",
     "shell.execute_reply": "2021-03-28T07:04:32.090686Z"
    },
    "id": "PyrLTFteUBUf",
    "outputId": "503a7cb2-cc79-4900-b3d4-ef5bf95a61df",
    "papermill": {
     "duration": 0.085391,
     "end_time": "2021-03-28T07:04:32.090868",
     "exception": false,
     "start_time": "2021-03-28T07:04:32.005477",
     "status": "completed"
    },
    "tags": []
   },
   "outputs": [
    {
     "name": "stdout",
     "output_type": "stream",
     "text": [
      "Accuracy model 0.981333 \n"
     ]
    }
   ],
   "source": [
    "# Model yang dipilih berdasarkan Accuracy tertinggi dan F_score\n",
    "# Serta melakukan analisis model attribute untuk mengaplikasikanya kedalam data_train\n",
    "# SVC\n",
    "svc = SVC(gamma='auto',kernel='linear',C=0.000125)\n",
    "svc.fit(x_train,y_train)\n",
    "predSVC = svc.predict(x_test)\n",
    "accSVC = accuracy_score(y_test,predSVC)\n",
    "print ('Accuracy model {:.6f} '.format(accSVC))"
   ]
  },
  {
   "cell_type": "code",
   "execution_count": 42,
   "metadata": {
    "execution": {
     "iopub.execute_input": "2021-03-28T07:04:32.204883Z",
     "iopub.status.busy": "2021-03-28T07:04:32.204173Z",
     "iopub.status.idle": "2021-03-28T07:04:32.211806Z",
     "shell.execute_reply": "2021-03-28T07:04:32.212357Z"
    },
    "id": "Ys0lJeDcnJHo",
    "outputId": "565a628f-1fc9-409b-a69b-267642ef4457",
    "papermill": {
     "duration": 0.067888,
     "end_time": "2021-03-28T07:04:32.212549",
     "exception": false,
     "start_time": "2021-03-28T07:04:32.144661",
     "status": "completed"
    },
    "tags": []
   },
   "outputs": [
    {
     "data": {
      "text/plain": [
       "array([[ 91,   0,   0,   0],\n",
       "       [  1,  88,   4,   0],\n",
       "       [  0,   1, 105,   1],\n",
       "       [  0,   0,   0,  84]], dtype=int64)"
      ]
     },
     "execution_count": 42,
     "metadata": {},
     "output_type": "execute_result"
    }
   ],
   "source": [
    "# Memvisualisasi prediksi data\n",
    "confusion_matrix(y_test , predSVC)"
   ]
  },
  {
   "cell_type": "code",
   "execution_count": 43,
   "metadata": {
    "execution": {
     "iopub.execute_input": "2021-03-28T07:04:32.326044Z",
     "iopub.status.busy": "2021-03-28T07:04:32.325275Z",
     "iopub.status.idle": "2021-03-28T07:04:32.574246Z",
     "shell.execute_reply": "2021-03-28T07:04:32.573199Z"
    },
    "id": "1EhhOcG9neLj",
    "outputId": "6ea33c00-ef4d-4e91-b3a0-4a433c85207d",
    "papermill": {
     "duration": 0.306905,
     "end_time": "2021-03-28T07:04:32.574420",
     "exception": false,
     "start_time": "2021-03-28T07:04:32.267515",
     "status": "completed"
    },
    "tags": []
   },
   "outputs": [
    {
     "data": {
      "image/png": "[encoded data removed]",
      "text/plain": [
       "<Figure size 576x360 with 2 Axes>"
      ]
     },
     "metadata": {
      "needs_background": "light"
     },
     "output_type": "display_data"
    }
   ],
   "source": [
    "f, ax = plt.subplots(figsize=(8,5))\n",
    "sns.heatmap(confusion_matrix(y_test, predSVC), annot=True, fmt=\".0f\", ax=ax)\n",
    "plt.xlabel(\"y_pred\")\n",
    "plt.ylabel(\"y_true\")\n",
    "plt.show()"
   ]
  },
  {
   "cell_type": "code",
   "execution_count": 44,
   "metadata": {
    "execution": {
     "iopub.execute_input": "2021-03-28T07:04:32.689673Z",
     "iopub.status.busy": "2021-03-28T07:04:32.688992Z",
     "iopub.status.idle": "2021-03-28T07:04:32.696980Z",
     "shell.execute_reply": "2021-03-28T07:04:32.697552Z"
    },
    "id": "2EMW_lMzoWEd",
    "outputId": "0064a7b6-e15b-49e0-bb57-79b42471d4f7",
    "papermill": {
     "duration": 0.06816,
     "end_time": "2021-03-28T07:04:32.697754",
     "exception": false,
     "start_time": "2021-03-28T07:04:32.629594",
     "status": "completed"
    },
    "tags": []
   },
   "outputs": [
    {
     "name": "stdout",
     "output_type": "stream",
     "text": [
      "              precision    recall  f1-score   support\n",
      "\n",
      "           0       0.99      1.00      0.99        91\n",
      "           1       0.99      0.95      0.97        93\n",
      "           2       0.96      0.98      0.97       107\n",
      "           3       0.99      1.00      0.99        84\n",
      "\n",
      "    accuracy                           0.98       375\n",
      "   macro avg       0.98      0.98      0.98       375\n",
      "weighted avg       0.98      0.98      0.98       375\n",
      "\n"
     ]
    }
   ],
   "source": [
    "print (classification_report(y_test, predSVC))"
   ]
  },
  {
   "cell_type": "code",
   "execution_count": 45,
   "metadata": {
    "execution": {
     "iopub.execute_input": "2021-03-28T07:04:32.812307Z",
     "iopub.status.busy": "2021-03-28T07:04:32.811377Z",
     "iopub.status.idle": "2021-03-28T07:04:33.563042Z",
     "shell.execute_reply": "2021-03-28T07:04:33.562355Z"
    },
    "id": "EZZxZRXqUvHl",
    "outputId": "c673645c-4f53-4be5-9c5a-1295f55a29c9",
    "papermill": {
     "duration": 0.810325,
     "end_time": "2021-03-28T07:04:33.563192",
     "exception": false,
     "start_time": "2021-03-28T07:04:32.752867",
     "status": "completed"
    },
    "tags": []
   },
   "outputs": [
    {
     "name": "stdout",
     "output_type": "stream",
     "text": [
      "Accuracy model 0.674667 \n"
     ]
    }
   ],
   "source": [
    "# Klasifikasi Model dengan 3 nilai Terendah\n",
    "# MPLClasifier\n",
    "MPL = MLPClassifier()\n",
    "MPL.fit(x_train,y_train)\n",
    "predMPL = MPL.predict(x_test)\n",
    "accMPL = accuracy_score(y_test , predMPL)\n",
    "print ('Accuracy model {:.6f} '.format(accMPL))"
   ]
  },
  {
   "cell_type": "code",
   "execution_count": 46,
   "metadata": {
    "execution": {
     "iopub.execute_input": "2021-03-28T07:04:33.681175Z",
     "iopub.status.busy": "2021-03-28T07:04:33.680457Z",
     "iopub.status.idle": "2021-03-28T07:04:33.689039Z",
     "shell.execute_reply": "2021-03-28T07:04:33.690004Z"
    },
    "id": "-dIyLyGHDYjy",
    "outputId": "ff0d99b3-508b-4e55-d840-e19499fba5b6",
    "papermill": {
     "duration": 0.071187,
     "end_time": "2021-03-28T07:04:33.690280",
     "exception": false,
     "start_time": "2021-03-28T07:04:33.619093",
     "status": "completed"
    },
    "tags": []
   },
   "outputs": [
    {
     "name": "stdout",
     "output_type": "stream",
     "text": [
      "              precision    recall  f1-score   support\n",
      "\n",
      "           0       0.77      0.90      0.83        91\n",
      "           1       0.61      0.53      0.57        93\n",
      "           2       0.64      0.50      0.56       107\n",
      "           3       0.65      0.81      0.72        84\n",
      "\n",
      "    accuracy                           0.67       375\n",
      "   macro avg       0.67      0.69      0.67       375\n",
      "weighted avg       0.67      0.67      0.67       375\n",
      "\n"
     ]
    }
   ],
   "source": [
    "print (classification_report(y_test, predMPL))"
   ]
  },
  {
   "cell_type": "code",
   "execution_count": 47,
   "metadata": {
    "execution": {
     "iopub.execute_input": "2021-03-28T07:04:33.807487Z",
     "iopub.status.busy": "2021-03-28T07:04:33.806839Z",
     "iopub.status.idle": "2021-03-28T07:04:33.903012Z",
     "shell.execute_reply": "2021-03-28T07:04:33.902481Z"
    },
    "id": "dyw_Ed8hVVLb",
    "outputId": "ebc46e1b-a2c7-43e3-e70c-199a57af348c",
    "papermill": {
     "duration": 0.155343,
     "end_time": "2021-03-28T07:04:33.903171",
     "exception": false,
     "start_time": "2021-03-28T07:04:33.747828",
     "status": "completed"
    },
    "tags": []
   },
   "outputs": [
    {
     "name": "stdout",
     "output_type": "stream",
     "text": [
      "Accuracy model 0.597333 \n"
     ]
    }
   ],
   "source": [
    "# LogisticRegression\n",
    "LR = LogisticRegression()\n",
    "LR.fit(x_train,y_train)\n",
    "predLR = LR.predict(x_test)\n",
    "accLR = accuracy_score(y_test , predLR)\n",
    "print ('Accuracy model {:.6f} '.format(accLR))"
   ]
  },
  {
   "cell_type": "code",
   "execution_count": 48,
   "metadata": {
    "execution": {
     "iopub.execute_input": "2021-03-28T07:04:34.024437Z",
     "iopub.status.busy": "2021-03-28T07:04:34.023782Z",
     "iopub.status.idle": "2021-03-28T07:04:34.033245Z",
     "shell.execute_reply": "2021-03-28T07:04:34.033982Z"
    },
    "id": "1R38H8PKDcI9",
    "outputId": "21799781-0bc1-418c-808e-5836cd0ba5bf",
    "papermill": {
     "duration": 0.073513,
     "end_time": "2021-03-28T07:04:34.034526",
     "exception": false,
     "start_time": "2021-03-28T07:04:33.961013",
     "status": "completed"
    },
    "tags": []
   },
   "outputs": [
    {
     "name": "stdout",
     "output_type": "stream",
     "text": [
      "              precision    recall  f1-score   support\n",
      "\n",
      "           0       0.85      0.79      0.82        91\n",
      "           1       0.49      0.60      0.54        93\n",
      "           2       0.46      0.33      0.38       107\n",
      "           3       0.62      0.73      0.67        84\n",
      "\n",
      "    accuracy                           0.60       375\n",
      "   macro avg       0.60      0.61      0.60       375\n",
      "weighted avg       0.60      0.60      0.59       375\n",
      "\n"
     ]
    }
   ],
   "source": [
    "print (classification_report(y_test, predLR))"
   ]
  },
  {
   "cell_type": "code",
   "execution_count": 49,
   "metadata": {
    "execution": {
     "iopub.execute_input": "2021-03-28T07:04:34.160957Z",
     "iopub.status.busy": "2021-03-28T07:04:34.159778Z",
     "iopub.status.idle": "2021-03-28T07:04:34.169437Z",
     "shell.execute_reply": "2021-03-28T07:04:34.168732Z"
    },
    "id": "EFwUXdDnWAhK",
    "outputId": "622c7d34-021d-406e-ec3c-9468289b7f38",
    "papermill": {
     "duration": 0.07626,
     "end_time": "2021-03-28T07:04:34.169606",
     "exception": false,
     "start_time": "2021-03-28T07:04:34.093346",
     "status": "completed"
    },
    "tags": []
   },
   "outputs": [
    {
     "name": "stdout",
     "output_type": "stream",
     "text": [
      "Accuracy model 0.810667 \n"
     ]
    }
   ],
   "source": [
    "#Gaussian\n",
    "Gauss = GaussianNB()\n",
    "Gauss.fit(x_train,y_train)\n",
    "predGauss = Gauss.predict(x_test)\n",
    "accGauss = accuracy_score(y_test , predGauss)\n",
    "print ('Accuracy model {:.6f} '.format(accGauss))"
   ]
  },
  {
   "cell_type": "code",
   "execution_count": 50,
   "metadata": {
    "execution": {
     "iopub.execute_input": "2021-03-28T07:04:34.290327Z",
     "iopub.status.busy": "2021-03-28T07:04:34.289660Z",
     "iopub.status.idle": "2021-03-28T07:04:34.301671Z",
     "shell.execute_reply": "2021-03-28T07:04:34.300750Z"
    },
    "id": "JYF2Q7BkDfzF",
    "outputId": "bbebfe83-2da7-49dd-ea2a-bdcc346c862f",
    "papermill": {
     "duration": 0.07449,
     "end_time": "2021-03-28T07:04:34.301888",
     "exception": false,
     "start_time": "2021-03-28T07:04:34.227398",
     "status": "completed"
    },
    "tags": []
   },
   "outputs": [
    {
     "name": "stdout",
     "output_type": "stream",
     "text": [
      "              precision    recall  f1-score   support\n",
      "\n",
      "           0       0.91      0.96      0.93        91\n",
      "           1       0.76      0.73      0.75        93\n",
      "           2       0.73      0.72      0.73       107\n",
      "           3       0.85      0.86      0.85        84\n",
      "\n",
      "    accuracy                           0.81       375\n",
      "   macro avg       0.81      0.82      0.81       375\n",
      "weighted avg       0.81      0.81      0.81       375\n",
      "\n"
     ]
    }
   ],
   "source": [
    "print (classification_report(y_test, predGauss))"
   ]
  },
  {
   "cell_type": "markdown",
   "metadata": {
    "id": "4FYJ7CuXBZb9",
    "papermill": {
     "duration": 0.060261,
     "end_time": "2021-03-28T07:04:34.421104",
     "exception": false,
     "start_time": "2021-03-28T07:04:34.360843",
     "status": "completed"
    },
    "tags": []
   },
   "source": [
    "### Menerapkan Model yang telah di buat ke dalam Data_test dan melakukan print ke dalam bentuk CSV"
   ]
  },
  {
   "cell_type": "code",
   "execution_count": 51,
   "metadata": {
    "execution": {
     "iopub.execute_input": "2021-03-28T07:04:34.542232Z",
     "iopub.status.busy": "2021-03-28T07:04:34.541229Z",
     "iopub.status.idle": "2021-03-28T07:04:34.552589Z",
     "shell.execute_reply": "2021-03-28T07:04:34.551923Z"
    },
    "id": "G_DyxSc8XDwA",
    "papermill": {
     "duration": 0.072878,
     "end_time": "2021-03-28T07:04:34.552750",
     "exception": false,
     "start_time": "2021-03-28T07:04:34.479872",
     "status": "completed"
    },
    "tags": []
   },
   "outputs": [],
   "source": [
    "# Apply Model to Test data \n",
    "test_data = data_test.drop('index',axis =1)\n",
    "apply_model = svc.predict(test_data)"
   ]
  },
  {
   "cell_type": "code",
   "execution_count": 52,
   "metadata": {
    "execution": {
     "iopub.execute_input": "2021-03-28T07:04:34.694679Z",
     "iopub.status.busy": "2021-03-28T07:04:34.693619Z",
     "iopub.status.idle": "2021-03-28T07:04:34.730776Z",
     "shell.execute_reply": "2021-03-28T07:04:34.730127Z"
    },
    "id": "MaXKjka2XbsS",
    "outputId": "d3908413-97b1-4108-8bce-8a0ed0dc61a9",
    "papermill": {
     "duration": 0.118035,
     "end_time": "2021-03-28T07:04:34.730926",
     "exception": false,
     "start_time": "2021-03-28T07:04:34.612891",
     "status": "completed"
    },
    "tags": []
   },
   "outputs": [
    {
     "data": {
      "text/html": [
       "<div>\n",
       "<style scoped>\n",
       "    .dataframe tbody tr th:only-of-type {\n",
       "        vertical-align: middle;\n",
       "    }\n",
       "\n",
       "    .dataframe tbody tr th {\n",
       "        vertical-align: top;\n",
       "    }\n",
       "\n",
       "    .dataframe thead th {\n",
       "        text-align: right;\n",
       "    }\n",
       "</style>\n",
       "<table border=\"1\" class=\"dataframe\">\n",
       "  <thead>\n",
       "    <tr style=\"text-align: right;\">\n",
       "      <th></th>\n",
       "      <th>index</th>\n",
       "      <th>price_range</th>\n",
       "    </tr>\n",
       "  </thead>\n",
       "  <tbody>\n",
       "    <tr>\n",
       "      <th>0</th>\n",
       "      <td>405</td>\n",
       "      <td>3</td>\n",
       "    </tr>\n",
       "    <tr>\n",
       "      <th>1</th>\n",
       "      <td>1190</td>\n",
       "      <td>0</td>\n",
       "    </tr>\n",
       "    <tr>\n",
       "      <th>2</th>\n",
       "      <td>1132</td>\n",
       "      <td>2</td>\n",
       "    </tr>\n",
       "    <tr>\n",
       "      <th>3</th>\n",
       "      <td>731</td>\n",
       "      <td>2</td>\n",
       "    </tr>\n",
       "    <tr>\n",
       "      <th>4</th>\n",
       "      <td>1754</td>\n",
       "      <td>2</td>\n",
       "    </tr>\n",
       "  </tbody>\n",
       "</table>\n",
       "</div>"
      ],
      "text/plain": [
       "   index  price_range\n",
       "0    405            3\n",
       "1   1190            0\n",
       "2   1132            2\n",
       "3    731            2\n",
       "4   1754            2"
      ]
     },
     "execution_count": 52,
     "metadata": {},
     "output_type": "execute_result"
    }
   ],
   "source": [
    "# Memasukan data yang telah di terapkan ke dalam dataframe sesuai dengan ketentuan Submission yang diminta\n",
    "a = {'index':data_test['index'].values,'price_range':apply_model}\n",
    "tested_data = pd.DataFrame.from_dict(a,orient='index')\n",
    "trans = tested_data.T\n",
    "trans.head()"
   ]
  },
  {
   "cell_type": "code",
   "execution_count": 53,
   "metadata": {
    "execution": {
     "iopub.execute_input": "2021-03-28T07:04:34.854800Z",
     "iopub.status.busy": "2021-03-28T07:04:34.853816Z",
     "iopub.status.idle": "2021-03-28T07:04:34.862429Z",
     "shell.execute_reply": "2021-03-28T07:04:34.861883Z"
    },
    "id": "NSmDIQ-LaiMZ",
    "papermill": {
     "duration": 0.072885,
     "end_time": "2021-03-28T07:04:34.862630",
     "exception": false,
     "start_time": "2021-03-28T07:04:34.789745",
     "status": "completed"
    },
    "tags": []
   },
   "outputs": [],
   "source": [
    "# Melakukan print dataframe ke dalam bentuk .csv\n",
    "trans.to_csv('Submission.csv',index='false')"
   ]
  },
  {
   "cell_type": "code",
   "execution_count": 55,
   "metadata": {
    "scrolled": true
   },
   "outputs": [
    {
     "data": {
      "text/html": [
       "<div>\n",
       "<style scoped>\n",
       "    .dataframe tbody tr th:only-of-type {\n",
       "        vertical-align: middle;\n",
       "    }\n",
       "\n",
       "    .dataframe tbody tr th {\n",
       "        vertical-align: top;\n",
       "    }\n",
       "\n",
       "    .dataframe thead th {\n",
       "        text-align: right;\n",
       "    }\n",
       "</style>\n",
       "<table border=\"1\" class=\"dataframe\">\n",
       "  <thead>\n",
       "    <tr style=\"text-align: right;\">\n",
       "      <th></th>\n",
       "      <th>index</th>\n",
       "      <th>price_range</th>\n",
       "    </tr>\n",
       "  </thead>\n",
       "  <tbody>\n",
       "    <tr>\n",
       "      <th>0</th>\n",
       "      <td>405</td>\n",
       "      <td>3</td>\n",
       "    </tr>\n",
       "    <tr>\n",
       "      <th>1</th>\n",
       "      <td>1190</td>\n",
       "      <td>0</td>\n",
       "    </tr>\n",
       "    <tr>\n",
       "      <th>2</th>\n",
       "      <td>1132</td>\n",
       "      <td>2</td>\n",
       "    </tr>\n",
       "  </tbody>\n",
       "</table>\n",
       "</div>"
      ],
      "text/plain": [
       "   index  price_range\n",
       "0    405            3\n",
       "1   1190            0\n",
       "2   1132            2"
      ]
     },
     "execution_count": 55,
     "metadata": {},
     "output_type": "execute_result"
    }
   ],
   "source": [
    "# Melihat data submission yang diharapkan\n",
    "data_sample = pd.read_csv('submission_sample.csv')\n",
    "data_sample"
   ]
  },
  {
   "cell_type": "code",
   "execution_count": 56,
   "metadata": {},
   "outputs": [
    {
     "data": {
      "text/html": [
       "<div>\n",
       "<style scoped>\n",
       "    .dataframe tbody tr th:only-of-type {\n",
       "        vertical-align: middle;\n",
       "    }\n",
       "\n",
       "    .dataframe tbody tr th {\n",
       "        vertical-align: top;\n",
       "    }\n",
       "\n",
       "    .dataframe thead th {\n",
       "        text-align: right;\n",
       "    }\n",
       "</style>\n",
       "<table border=\"1\" class=\"dataframe\">\n",
       "  <thead>\n",
       "    <tr style=\"text-align: right;\">\n",
       "      <th></th>\n",
       "      <th>Unnamed: 0</th>\n",
       "      <th>index</th>\n",
       "      <th>price_range</th>\n",
       "    </tr>\n",
       "  </thead>\n",
       "  <tbody>\n",
       "    <tr>\n",
       "      <th>0</th>\n",
       "      <td>0</td>\n",
       "      <td>405</td>\n",
       "      <td>3</td>\n",
       "    </tr>\n",
       "    <tr>\n",
       "      <th>1</th>\n",
       "      <td>1</td>\n",
       "      <td>1190</td>\n",
       "      <td>0</td>\n",
       "    </tr>\n",
       "    <tr>\n",
       "      <th>2</th>\n",
       "      <td>2</td>\n",
       "      <td>1132</td>\n",
       "      <td>2</td>\n",
       "    </tr>\n",
       "    <tr>\n",
       "      <th>3</th>\n",
       "      <td>3</td>\n",
       "      <td>731</td>\n",
       "      <td>2</td>\n",
       "    </tr>\n",
       "    <tr>\n",
       "      <th>4</th>\n",
       "      <td>4</td>\n",
       "      <td>1754</td>\n",
       "      <td>2</td>\n",
       "    </tr>\n",
       "    <tr>\n",
       "      <th>...</th>\n",
       "      <td>...</td>\n",
       "      <td>...</td>\n",
       "      <td>...</td>\n",
       "    </tr>\n",
       "    <tr>\n",
       "      <th>495</th>\n",
       "      <td>495</td>\n",
       "      <td>936</td>\n",
       "      <td>3</td>\n",
       "    </tr>\n",
       "    <tr>\n",
       "      <th>496</th>\n",
       "      <td>496</td>\n",
       "      <td>1524</td>\n",
       "      <td>0</td>\n",
       "    </tr>\n",
       "    <tr>\n",
       "      <th>497</th>\n",
       "      <td>497</td>\n",
       "      <td>1415</td>\n",
       "      <td>2</td>\n",
       "    </tr>\n",
       "    <tr>\n",
       "      <th>498</th>\n",
       "      <td>498</td>\n",
       "      <td>1223</td>\n",
       "      <td>3</td>\n",
       "    </tr>\n",
       "    <tr>\n",
       "      <th>499</th>\n",
       "      <td>499</td>\n",
       "      <td>1548</td>\n",
       "      <td>2</td>\n",
       "    </tr>\n",
       "  </tbody>\n",
       "</table>\n",
       "<p>500 rows × 3 columns</p>\n",
       "</div>"
      ],
      "text/plain": [
       "     Unnamed: 0  index  price_range\n",
       "0             0    405            3\n",
       "1             1   1190            0\n",
       "2             2   1132            2\n",
       "3             3    731            2\n",
       "4             4   1754            2\n",
       "..          ...    ...          ...\n",
       "495         495    936            3\n",
       "496         496   1524            0\n",
       "497         497   1415            2\n",
       "498         498   1223            3\n",
       "499         499   1548            2\n",
       "\n",
       "[500 rows x 3 columns]"
      ]
     },
     "execution_count": 56,
     "metadata": {},
     "output_type": "execute_result"
    }
   ],
   "source": [
    "# Hasil data dari pemodelan\n",
    "data_hasil = pd.read_csv('Submission.csv')\n",
    "data_hasil"
   ]
  }
 ],
 "metadata": {
  "kernelspec": {
   "display_name": "Python 3 (ipykernel)",
   "language": "python",
   "name": "python3"
  },
  "language_info": {
   "codemirror_mode": {
    "name": "ipython",
    "version": 3
   },
   "file_extension": ".py",
   "mimetype": "text/x-python",
   "name": "python",
   "nbconvert_exporter": "python",
   "pygments_lexer": "ipython3",
   "version": "3.8.0"
  },
  "papermill": {
   "default_parameters": {},
   "duration": 84.367044,
   "end_time": "2021-03-28T07:04:35.733540",
   "environment_variables": {},
   "exception": null,
   "input_path": "__notebook__.ipynb",
   "output_path": "__notebook__.ipynb",
   "parameters": {},
   "start_time": "2021-03-28T07:03:11.366496",
   "version": "2.2.2"
  }
 },
 "nbformat": 4,
 "nbformat_minor": 4
}
